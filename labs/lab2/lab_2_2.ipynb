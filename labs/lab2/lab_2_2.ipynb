{
  "cells": [
    {
      "cell_type": "markdown",
      "metadata": {
        "id": "HyTo-u71UXdK"
      },
      "source": [
        "## Lab-2.2: Binary and multi-class classification via neural-networks\n",
        "\n",
        "* In this lab we perform binary classification on the IMDB dataset and multi-class classification on the Newswire data-set. \n",
        "\n",
        "**Instructions** \n",
        "* Code both binary and multi-class using a deep feed forward fully connected Neural network\n",
        "  * Binary classification: IMDB data-set \n",
        "  * Multi-class classification: Newswire data-set \n",
        "  * **Do each example with Keras AND then Pytorch**\n",
        "  * Use a dense feed forward ANN model\n",
        "  * Normalize the data as needed\n",
        "  * Visualize the results at the end where possible\n",
        "  * Partition data into training, validation, and test\n",
        "  * Monitor training and validation throughout training by plotting\n",
        "  * Print training, validation, and test errors at the very end\n",
        "  * Do basic hyper parameter tuning to try to achieve an optimal fit model\n",
        "    * i.e. best training/validation loss without over-fitting\n",
        "    * Explore L1 and L2 regularization\n",
        "    * Explore different optimizers \n",
        "    * Use the loss functions specified in the textbook\n",
        "    * Explore different options for activation functions, network size/depth, etc\n",
        "* **Document what is going on in the code, as needed, with narrative markdown text between cells.**\n",
        "* *Submit the version with hyper parameters that provide the optimal fit*\n",
        "  * i.e. you don't need to show the outputs of your hyper-parameter tuning process\n",
        "  \n",
        "**Important: The Keras portion of this assignment is included as an example in the text book**\n",
        "  *  Binary classification: See the textbook (Chollet chapter-3, page 68) for reference \n",
        "  *  Multi-class classification: See the textbook (Chollet chapter-3, page 78) for reference\n",
        "  \n",
        "**Submission:**\n",
        "* You need to upload ONE document to Canvas when you are done\n",
        "  * (1) A PDF (or HTML) of the completed form of this notebook \n",
        "* The final uploaded version should NOT have any code-errors present \n",
        "* All outputs must be visible in the uploaded version, including code-cell outputs, images, graphs, etc"
      ]
    },
    {
      "cell_type": "markdown",
      "metadata": {
        "id": "knqbKknTUXdM"
      },
      "source": [
        "## Binary Classification"
      ]
    },
    {
      "cell_type": "markdown",
      "metadata": {
        "id": "S4i1q-gGUXdM"
      },
      "source": [
        "### Data preparation \n",
        "\n",
        "* Insert cells below"
      ]
    },
    {
      "cell_type": "code",
      "execution_count": 1,
      "metadata": {
        "id": "d7N7bmthUXdN"
      },
      "outputs": [],
      "source": [
        "from keras.datasets import imdb\n",
        "(train_data, train_labels), (test_data, test_labels) = imdb.load_data(num_words=10000)"
      ]
    },
    {
      "cell_type": "markdown",
      "metadata": {
        "id": "1qePDF9LUXdO"
      },
      "source": [
        "#normalizing the data\n",
        "import numpy as np\n",
        "for i in range(len(train_data)):\n",
        "    mean = sum(train_data[i]) // len(train_data[i])\n",
        "    \n",
        "    std =[]\n",
        "    for k in range(len(train_data[i])):\n",
        "        train_data[i][k] -= meanlist[i]\n",
        "        stdvalue = np.sqrt((np.sum(train_data[i][k] - meanlist[i]) **2)//len(train_data[i]))\n",
        "        std.append(stdvalue)\n",
        "        train_data[i][k] /= std[k]\n",
        "        \n",
        "        #test_data -= mean\n",
        "        #test_data /= std"
      ]
    },
    {
      "cell_type": "code",
      "execution_count": 2,
      "metadata": {
        "colab": {
          "base_uri": "https://localhost:8080/"
        },
        "id": "SFqahjrQUXdO",
        "outputId": "7de57452-ff37-4bda-d2b9-c29480c102a3"
      },
      "outputs": [
        {
          "output_type": "execute_result",
          "data": {
            "text/plain": [
              "9999"
            ]
          },
          "metadata": {},
          "execution_count": 2
        }
      ],
      "source": [
        "max([max(sequence) for sequence in train_data])"
      ]
    },
    {
      "cell_type": "code",
      "execution_count": 3,
      "metadata": {
        "id": "rlPuSsCXUXdP"
      },
      "outputs": [],
      "source": [
        "word_index = imdb.get_word_index()\n",
        "reverse_word_index = dict([(value, key) for (key, value) in word_index.items()])\n",
        "decoded_review = ' '.join([reverse_word_index.get(i - 3, '?') for i in train_data[0]])"
      ]
    },
    {
      "cell_type": "code",
      "execution_count": 4,
      "metadata": {
        "id": "axnPPc5-UXdP"
      },
      "outputs": [],
      "source": [
        "import numpy as np\n",
        "def vectorize_sequences(sequences, dimension=10000):\n",
        "    results = np.zeros((len(sequences), dimension))\n",
        "    for i, sequence in enumerate(sequences):\n",
        "        results[i, sequence] = 1.\n",
        "    return results\n",
        "x_train = vectorize_sequences(train_data)\n",
        "x_test = vectorize_sequences(test_data)"
      ]
    },
    {
      "cell_type": "code",
      "execution_count": 5,
      "metadata": {
        "colab": {
          "base_uri": "https://localhost:8080/"
        },
        "id": "I8xaHdTRUXdP",
        "outputId": "7002b629-7c3f-443c-c667-c8e3f8196134"
      },
      "outputs": [
        {
          "output_type": "execute_result",
          "data": {
            "text/plain": [
              "array([0., 1., 1., ..., 0., 0., 0.])"
            ]
          },
          "metadata": {},
          "execution_count": 5
        }
      ],
      "source": [
        "x_train[0]"
      ]
    },
    {
      "cell_type": "code",
      "execution_count": 6,
      "metadata": {
        "id": "h-Ce4_sjUXdP"
      },
      "outputs": [],
      "source": [
        "y_train = np.asarray(train_labels).astype('float32')\n",
        "y_test = np.asarray(test_labels).astype('float32')"
      ]
    },
    {
      "cell_type": "markdown",
      "metadata": {
        "id": "POCHaHyoUXdQ"
      },
      "source": [
        "### Keras training\n",
        "\n",
        "* Insert cells below"
      ]
    },
    {
      "cell_type": "code",
      "execution_count": 7,
      "metadata": {
        "id": "JCqhzHwyUXdQ"
      },
      "outputs": [],
      "source": [
        "#model definition\n",
        "from keras import models\n",
        "from keras import layers\n",
        "from keras import regularizers\n",
        "model = models.Sequential()\n",
        "model.add(layers.Dense(16, #kernel_regularizer = regularizers.l1_l2(l1 = 1e-5, l2 = 1e-4),\n",
        "                       activation='relu', input_shape=(10000,)))\n",
        "model.add(layers.Dense(16, activation='relu'))\n",
        "model.add(layers.Dense(1, activation='sigmoid'))"
      ]
    },
    {
      "cell_type": "code",
      "execution_count": 8,
      "metadata": {
        "id": "x40Ka9OZUXdQ"
      },
      "outputs": [],
      "source": [
        "#compiling the model\n",
        "model.compile(optimizer='rmsprop',loss='binary_crossentropy',metrics=['accuracy'])"
      ]
    },
    {
      "cell_type": "code",
      "execution_count": 9,
      "metadata": {
        "id": "Szdu0nN7UXdQ"
      },
      "outputs": [],
      "source": [
        "#configuring the optimizer\n",
        "from tensorflow.keras import optimizers\n",
        "model.compile(optimizer=optimizers.RMSprop(learning_rate=0.001),loss='binary_crossentropy',metrics=['accuracy'])"
      ]
    },
    {
      "cell_type": "code",
      "execution_count": 10,
      "metadata": {
        "id": "mfcHOVZ0UXdQ"
      },
      "outputs": [],
      "source": [
        "# Using custom losses and metrics\n",
        "from keras import losses\n",
        "from keras import metrics\n",
        "model.compile(optimizer=optimizers.RMSprop(learning_rate=0.001),\n",
        "              loss=losses.binary_crossentropy,metrics=[metrics.binary_accuracy])"
      ]
    },
    {
      "cell_type": "code",
      "execution_count": 11,
      "metadata": {
        "id": "_GQTXwovUXdR"
      },
      "outputs": [],
      "source": [
        "#set aside a validation set\n",
        "x_val = x_train[:10000]\n",
        "partial_x_train = x_train[10000:]\n",
        "y_val = y_train[:10000]\n",
        "partial_y_train = y_train[10000:]"
      ]
    },
    {
      "cell_type": "code",
      "execution_count": 12,
      "metadata": {
        "id": "vvp4sAK7UXdR"
      },
      "outputs": [],
      "source": [
        "model.compile(optimizer='rmsprop',loss='binary_crossentropy',metrics=['acc'])"
      ]
    },
    {
      "cell_type": "code",
      "execution_count": 13,
      "metadata": {
        "colab": {
          "base_uri": "https://localhost:8080/"
        },
        "id": "Q04fDhzcUXdR",
        "outputId": "5c46697f-b3a2-4f67-813c-7a3403da33d0"
      },
      "outputs": [
        {
          "output_type": "stream",
          "name": "stdout",
          "text": [
            "Epoch 1/20\n",
            "30/30 [==============================] - 1s 25ms/step - loss: 0.5098 - acc: 0.7911 - val_loss: 0.3743 - val_acc: 0.8757\n",
            "Epoch 2/20\n",
            "30/30 [==============================] - 1s 18ms/step - loss: 0.3034 - acc: 0.9031 - val_loss: 0.3066 - val_acc: 0.8827\n",
            "Epoch 3/20\n",
            "30/30 [==============================] - 1s 19ms/step - loss: 0.2243 - acc: 0.9275 - val_loss: 0.2777 - val_acc: 0.8916\n",
            "Epoch 4/20\n",
            "30/30 [==============================] - 1s 19ms/step - loss: 0.1790 - acc: 0.9427 - val_loss: 0.2726 - val_acc: 0.8896\n",
            "Epoch 5/20\n",
            "30/30 [==============================] - 1s 18ms/step - loss: 0.1479 - acc: 0.9537 - val_loss: 0.2844 - val_acc: 0.8864\n",
            "Epoch 6/20\n",
            "30/30 [==============================] - 1s 17ms/step - loss: 0.1216 - acc: 0.9627 - val_loss: 0.2927 - val_acc: 0.8865\n",
            "Epoch 7/20\n",
            "30/30 [==============================] - 1s 18ms/step - loss: 0.0968 - acc: 0.9688 - val_loss: 0.3103 - val_acc: 0.8836\n",
            "Epoch 8/20\n",
            "30/30 [==============================] - 1s 18ms/step - loss: 0.0808 - acc: 0.9767 - val_loss: 0.3955 - val_acc: 0.8662\n",
            "Epoch 9/20\n",
            "30/30 [==============================] - 1s 18ms/step - loss: 0.0680 - acc: 0.9817 - val_loss: 0.3519 - val_acc: 0.8789\n",
            "Epoch 10/20\n",
            "30/30 [==============================] - 1s 18ms/step - loss: 0.0559 - acc: 0.9859 - val_loss: 0.3781 - val_acc: 0.8817\n",
            "Epoch 11/20\n",
            "30/30 [==============================] - 1s 17ms/step - loss: 0.0485 - acc: 0.9877 - val_loss: 0.4066 - val_acc: 0.8724\n",
            "Epoch 12/20\n",
            "30/30 [==============================] - 1s 18ms/step - loss: 0.0380 - acc: 0.9913 - val_loss: 0.4277 - val_acc: 0.8745\n",
            "Epoch 13/20\n",
            "30/30 [==============================] - 1s 18ms/step - loss: 0.0321 - acc: 0.9935 - val_loss: 0.4616 - val_acc: 0.8711\n",
            "Epoch 14/20\n",
            "30/30 [==============================] - 1s 18ms/step - loss: 0.0246 - acc: 0.9956 - val_loss: 0.4886 - val_acc: 0.8752\n",
            "Epoch 15/20\n",
            "30/30 [==============================] - 1s 18ms/step - loss: 0.0198 - acc: 0.9974 - val_loss: 0.5197 - val_acc: 0.8726\n",
            "Epoch 16/20\n",
            "30/30 [==============================] - 1s 18ms/step - loss: 0.0193 - acc: 0.9968 - val_loss: 0.5508 - val_acc: 0.8721\n",
            "Epoch 17/20\n",
            "30/30 [==============================] - 1s 17ms/step - loss: 0.0135 - acc: 0.9985 - val_loss: 0.5821 - val_acc: 0.8698\n",
            "Epoch 18/20\n",
            "30/30 [==============================] - 1s 18ms/step - loss: 0.0126 - acc: 0.9975 - val_loss: 0.6171 - val_acc: 0.8696\n",
            "Epoch 19/20\n",
            "30/30 [==============================] - 1s 17ms/step - loss: 0.0066 - acc: 0.9997 - val_loss: 0.6543 - val_acc: 0.8677\n",
            "Epoch 20/20\n",
            "30/30 [==============================] - 1s 18ms/step - loss: 0.0094 - acc: 0.9985 - val_loss: 0.6868 - val_acc: 0.8658\n"
          ]
        }
      ],
      "source": [
        "history = model.fit(partial_x_train,partial_y_train,epochs=20,batch_size=512,validation_data=(x_val, y_val))"
      ]
    },
    {
      "cell_type": "code",
      "execution_count": 14,
      "metadata": {
        "colab": {
          "base_uri": "https://localhost:8080/"
        },
        "id": "Y1KMsMxCUXdR",
        "outputId": "ad110817-ad62-4bb5-f878-30cd482c854b"
      },
      "outputs": [
        {
          "output_type": "execute_result",
          "data": {
            "text/plain": [
              "dict_keys(['loss', 'acc', 'val_loss', 'val_acc'])"
            ]
          },
          "metadata": {},
          "execution_count": 14
        }
      ],
      "source": [
        "history_dict = history.history\n",
        "history_dict.keys()"
      ]
    },
    {
      "cell_type": "code",
      "execution_count": 15,
      "metadata": {
        "colab": {
          "base_uri": "https://localhost:8080/",
          "height": 295
        },
        "id": "tScRm1PEUXdR",
        "outputId": "635c35c5-a0d4-48bd-8822-beeb38d69ddc"
      },
      "outputs": [
        {
          "output_type": "display_data",
          "data": {
            "text/plain": [
              "<Figure size 432x288 with 1 Axes>"
            ],
            "image/png": "[encoded data removed]"
          },
          "metadata": {
            "needs_background": "light"
          }
        }
      ],
      "source": [
        "import matplotlib.pyplot as plt\n",
        "history_dict = history.history\n",
        "loss_values = history_dict['loss']\n",
        "val_loss_values = history_dict['val_loss']\n",
        "acc = history_dict['acc']\n",
        "epochs = range(1, len(acc) + 1)\n",
        "plt.plot(epochs, loss_values, 'bo', label='Training loss')\n",
        "plt.plot(epochs, val_loss_values, 'b', label='Validation loss')\n",
        "plt.title('Training and validation loss')\n",
        "plt.xlabel('Epochs')\n",
        "plt.ylabel('Loss')\n",
        "plt.legend()\n",
        "plt.show()"
      ]
    },
    {
      "cell_type": "code",
      "execution_count": 16,
      "metadata": {
        "colab": {
          "base_uri": "https://localhost:8080/",
          "height": 295
        },
        "id": "n4pzVxYzUXdS",
        "outputId": "76d0c862-2718-40f7-e951-b39370e88b09"
      },
      "outputs": [
        {
          "output_type": "display_data",
          "data": {
            "text/plain": [
              "<Figure size 432x288 with 1 Axes>"
            ],
            "image/png": "[encoded data removed]"
          },
          "metadata": {
            "needs_background": "light"
          }
        }
      ],
      "source": [
        "plt.clf()\n",
        "acc_values = history_dict['acc']\n",
        "val_acc_values = history_dict['val_acc']\n",
        "plt.plot(epochs, acc_values, 'bo', label='Training acc')\n",
        "plt.plot(epochs, val_acc_values, 'b', label='Validation acc')\n",
        "plt.title('Training and validation accuracy')\n",
        "plt.xlabel('Epochs')\n",
        "plt.ylabel('Loss')\n",
        "plt.legend()\n",
        "plt.show()"
      ]
    },
    {
      "cell_type": "code",
      "execution_count": 17,
      "metadata": {
        "colab": {
          "base_uri": "https://localhost:8080/"
        },
        "id": "sYb_8wJPUXdS",
        "outputId": "a1715535-9174-47e2-95f5-894522926fdb"
      },
      "outputs": [
        {
          "output_type": "stream",
          "name": "stdout",
          "text": [
            "Epoch 1/4\n",
            "49/49 [==============================] - 1s 15ms/step - loss: 0.4807 - accuracy: 0.8141\n",
            "Epoch 2/4\n",
            "49/49 [==============================] - 1s 14ms/step - loss: 0.2888 - accuracy: 0.9056\n",
            "Epoch 3/4\n",
            "49/49 [==============================] - 1s 14ms/step - loss: 0.2382 - accuracy: 0.9245\n",
            "Epoch 4/4\n",
            "49/49 [==============================] - 1s 14ms/step - loss: 0.2136 - accuracy: 0.9344\n",
            "782/782 [==============================] - 1s 2ms/step - loss: 0.3307 - accuracy: 0.8808\n"
          ]
        }
      ],
      "source": [
        "model = models.Sequential()\n",
        "model.add(layers.Dense(16, kernel_regularizer = regularizers.l1_l2(l1 = 1e-5, l2 = 1e-4),\n",
        "                       activation='relu', input_shape=(10000,)))\n",
        "model.add(layers.Dense(16, activation='relu'))\n",
        "model.add(layers.Dense(1, activation='sigmoid'))\n",
        "model.compile(optimizer='rmsprop',\n",
        "loss='binary_crossentropy',\n",
        "metrics=['accuracy'])\n",
        "model.fit(x_train, y_train, epochs=4, batch_size=512)\n",
        "results = model.evaluate(x_test, y_test)"
      ]
    },
    {
      "cell_type": "code",
      "execution_count": 18,
      "metadata": {
        "colab": {
          "base_uri": "https://localhost:8080/"
        },
        "id": "58-lOOOlUXdT",
        "outputId": "3fb5eae1-767f-4b66-db3d-10497312ce79"
      },
      "outputs": [
        {
          "output_type": "execute_result",
          "data": {
            "text/plain": [
              "[0.3307383954524994, 0.8807600140571594]"
            ]
          },
          "metadata": {},
          "execution_count": 18
        }
      ],
      "source": [
        "results"
      ]
    },
    {
      "cell_type": "code",
      "execution_count": 19,
      "metadata": {
        "colab": {
          "base_uri": "https://localhost:8080/"
        },
        "id": "o0TizzeoUXdT",
        "outputId": "8feb605c-e93c-45f9-8a9c-e9f09461429a"
      },
      "outputs": [
        {
          "output_type": "execute_result",
          "data": {
            "text/plain": [
              "array([[0.26541144],\n",
              "       [0.999884  ],\n",
              "       [0.9324957 ],\n",
              "       ...,\n",
              "       [0.14174744],\n",
              "       [0.11610976],\n",
              "       [0.73468727]], dtype=float32)"
            ]
          },
          "metadata": {},
          "execution_count": 19
        }
      ],
      "source": [
        "model.predict(x_test)"
      ]
    },
    {
      "cell_type": "markdown",
      "metadata": {
        "id": "pWCJZ6mHUXdU"
      },
      "source": [
        "### Pytorch training\n",
        "\n",
        "* Insert cells below"
      ]
    },
    {
      "cell_type": "code",
      "execution_count": 20,
      "metadata": {
        "id": "0VSr9kIjUXdU"
      },
      "outputs": [],
      "source": [
        "import torch\n",
        "import torchvision\n",
        "from torch import nn\n",
        "from torch.utils.data import DataLoader\n",
        "from torchvision import datasets, transforms"
      ]
    },
    {
      "cell_type": "code",
      "source": [
        "x_train = vectorize_sequences(train_data)\n",
        "x_test = vectorize_sequences(test_data)\n",
        "y_train = np.asarray(train_labels).astype('float32') \n",
        "y_test = np.asarray(test_labels).astype('float32')"
      ],
      "metadata": {
        "id": "atcRs1GyNRiz"
      },
      "execution_count": 21,
      "outputs": []
    },
    {
      "cell_type": "code",
      "source": [
        "x = x_train \n",
        "y = y_train \n",
        "\n",
        "device = \"cuda\" if torch.cuda.is_available() else \"cpu\"\n",
        "print(f\"USING {device} DEVICE\")\n",
        "\n",
        "input_dimension=x.shape[1]\n",
        "\n",
        "# # Define model\n",
        "class NeuralNetwork(torch.nn.Module):\n",
        "    def __init__(self):\n",
        "        #__init__() call to the parent class\n",
        "        super(NeuralNetwork, self).__init__()\n",
        "        #define linear model\n",
        "        self.linear_model = torch.nn.Sequential(\n",
        "            torch.nn.Linear(input_dimension, 6),\n",
        "            torch.nn.Sigmoid(),\n",
        "            torch.nn.Linear(6, 6),\n",
        "            torch.nn.Sigmoid(),\n",
        "            torch.nn.Linear(6, 1),\n",
        "        )\n",
        "\n",
        "    #FORWARD PASS (EVALUATION OF MODEL)\n",
        "    def forward(self, x):\n",
        "        out = self.linear_model(x)\n",
        "        return out\n",
        "\n",
        "#INITIALIZE MODEL \n",
        "model = NeuralNetwork().to(device)\n",
        "print(model)"
      ],
      "metadata": {
        "id": "VpQO1lV6lnbJ",
        "colab": {
          "base_uri": "https://localhost:8080/"
        },
        "outputId": "c5cef6ec-ee3e-49ca-87e9-05b361edb4a2"
      },
      "execution_count": 22,
      "outputs": [
        {
          "output_type": "stream",
          "name": "stdout",
          "text": [
            "USING cpu DEVICE\n",
            "NeuralNetwork(\n",
            "  (linear_model): Sequential(\n",
            "    (0): Linear(in_features=10000, out_features=6, bias=True)\n",
            "    (1): Sigmoid()\n",
            "    (2): Linear(in_features=6, out_features=6, bias=True)\n",
            "    (3): Sigmoid()\n",
            "    (4): Linear(in_features=6, out_features=1, bias=True)\n",
            "  )\n",
            ")\n"
          ]
        }
      ]
    },
    {
      "cell_type": "code",
      "source": [
        "#CHECK PARAMETERS (NOTICE HOW THEY WERE AUTOMATICALLY RANDOMIZED)\n",
        "for param in model.parameters():\n",
        "    print(param)\n",
        "    print(param.shape)\n",
        "    print(param.requires_grad)"
      ],
      "metadata": {
        "colab": {
          "base_uri": "https://localhost:8080/"
        },
        "id": "IRSpk0V2MKbh",
        "outputId": "670aa742-0191-4711-c88d-46c1fd410490"
      },
      "execution_count": 23,
      "outputs": [
        {
          "output_type": "stream",
          "name": "stdout",
          "text": [
            "Parameter containing:\n",
            "tensor([[ 0.0032,  0.0049, -0.0005,  ...,  0.0028,  0.0062,  0.0032],\n",
            "        [-0.0033, -0.0084,  0.0033,  ...,  0.0026,  0.0098,  0.0061],\n",
            "        [ 0.0075, -0.0006,  0.0058,  ...,  0.0005, -0.0028, -0.0023],\n",
            "        [ 0.0063,  0.0009, -0.0043,  ...,  0.0032, -0.0087,  0.0011],\n",
            "        [-0.0089, -0.0074,  0.0077,  ...,  0.0097, -0.0011,  0.0033],\n",
            "        [-0.0092,  0.0024,  0.0100,  ...,  0.0094,  0.0024,  0.0011]],\n",
            "       requires_grad=True)\n",
            "torch.Size([6, 10000])\n",
            "True\n",
            "Parameter containing:\n",
            "tensor([ 0.0081, -0.0010,  0.0054,  0.0089,  0.0070, -0.0076],\n",
            "       requires_grad=True)\n",
            "torch.Size([6])\n",
            "True\n",
            "Parameter containing:\n",
            "tensor([[-0.3357, -0.2680,  0.3601, -0.3982, -0.3302,  0.2222],\n",
            "        [-0.1455, -0.0989,  0.2974,  0.1659,  0.3270, -0.0198],\n",
            "        [-0.1149, -0.0457, -0.2772,  0.0025,  0.0856, -0.1700],\n",
            "        [ 0.4038,  0.1324, -0.2709,  0.3576,  0.2785,  0.0234],\n",
            "        [ 0.3075, -0.3904, -0.0897, -0.3252, -0.0366,  0.2592],\n",
            "        [ 0.4075,  0.0773,  0.2070,  0.3784, -0.3242,  0.0359]],\n",
            "       requires_grad=True)\n",
            "torch.Size([6, 6])\n",
            "True\n",
            "Parameter containing:\n",
            "tensor([-0.3377,  0.0687,  0.3048, -0.0154, -0.1751, -0.1763],\n",
            "       requires_grad=True)\n",
            "torch.Size([6])\n",
            "True\n",
            "Parameter containing:\n",
            "tensor([[ 0.3232,  0.2714, -0.0817, -0.3965, -0.2424,  0.2187]],\n",
            "       requires_grad=True)\n",
            "torch.Size([1, 6])\n",
            "True\n",
            "Parameter containing:\n",
            "tensor([-0.2596], requires_grad=True)\n",
            "torch.Size([1])\n",
            "True\n"
          ]
        }
      ]
    },
    {
      "cell_type": "code",
      "source": [
        "# CONVERT TO TORCH TENSOR AND EVALUATE MODEL AS A TEST\n",
        "x=torch.tensor(x).view(x.shape[0],x.shape[1])\n",
        "y=torch.tensor(y).view(x.shape[0],1)\n",
        "\n",
        "from sklearn.model_selection import train_test_split\n",
        "x_train, x_val, y_train, y_val = train_test_split(x, y, test_size=0.2, random_state=0)\n",
        "\n",
        "print(\"X-VALIDATION:\",x_val.shape,x_val.dtype)\n",
        "print(\"Y-VALIDATION:\",y_val.shape,y_val.dtype)\n",
        "print(\"X-TRAIN:\",x_train.shape,x_train.dtype)\n",
        "print(\"Y-TRAIN:\",y_train.shape,y_train.dtype)\n",
        "y_pred = model(x_train.float())\n",
        "print(\"PREDICTION:\",y_pred.shape,y_pred.dtype)"
      ],
      "metadata": {
        "id": "opZxWbO2n0ct",
        "colab": {
          "base_uri": "https://localhost:8080/"
        },
        "outputId": "9ddb405b-f5f2-4910-a20b-bc6ab762bd77"
      },
      "execution_count": 25,
      "outputs": [
        {
          "output_type": "stream",
          "name": "stdout",
          "text": [
            "X-VALIDATION: torch.Size([5000, 10000]) torch.float64\n",
            "Y-VALIDATION: torch.Size([5000, 1]) torch.float32\n",
            "X-TRAIN: torch.Size([20000, 10000]) torch.float64\n",
            "Y-TRAIN: torch.Size([20000, 1]) torch.float32\n",
            "PREDICTION: torch.Size([20000, 1]) torch.float32\n"
          ]
        }
      ]
    },
    {
      "cell_type": "code",
      "source": [
        "def train_loop(dataloader, model, loss_fn, optimizer):\n",
        "    size = len(dataloader.dataset)\n",
        "    for batch, (X, y) in enumerate(dataloader):\n",
        "        # Compute prediction and loss\n",
        "        pred = model(X)\n",
        "        loss = loss_fn(pred, y)\n",
        "\n",
        "        # Backpropagation\n",
        "        optimizer.zero_grad()\n",
        "        loss.backward()\n",
        "        optimizer.step()\n",
        "\n",
        "        if batch % 100 == 0:\n",
        "            loss, current = loss.item(), batch * len(X)\n",
        "            train_loss_history.append(loss)\n",
        "            print(f\"loss: {loss:>7f}  [{current:>5d}/{size:>5d}]\")\n",
        "\n",
        "\n",
        "def test_loop(dataloader, model, loss_fn):\n",
        "    size = len(dataloader.dataset)\n",
        "    num_batches = len(dataloader)\n",
        "    test_loss, correct = 0, 0\n",
        "\n",
        "    with torch.no_grad():\n",
        "        for X, y in dataloader:\n",
        "            pred = model(X)\n",
        "            test_loss += loss_fn(pred, y).item()\n",
        "            correct += (pred.argmax(1) == y).type(torch.float).sum().item()\n",
        "\n",
        "    test_loss /= num_batches\n",
        "    correct /= size\n",
        "    print(f\"Test Error: \\n Accuracy: {(100*correct):>0.1f}%, Avg loss: {test_loss:>8f} \\n\")"
      ],
      "metadata": {
        "id": "tRY7EyzkoYCM"
      },
      "execution_count": 26,
      "outputs": []
    },
    {
      "cell_type": "code",
      "source": [
        "import matplotlib.pyplot as plt\n",
        "fig = plt.figure()\n",
        "ax = fig.add_subplot(111, projection='3d')\n",
        "ax.scatter(x_train[:,0], x_train[:,1], y_train, c = 'b', marker='o')\n",
        "ax.scatter(x_train[:,0], x_train[:,1], y_pred.detach().numpy(), c = 'r', marker='o')\n",
        "plt.show()"
      ],
      "metadata": {
        "id": "YDbvZeXPF4zH"
      },
      "execution_count": null,
      "outputs": []
    },
    {
      "cell_type": "code",
      "source": [
        "epoch_array=[]\n",
        "val_loss_history=[]\n",
        "train_loss_history=[]\n",
        "\n",
        "#INITIALIZE LOSS FUNCTION AND OPTIMIZER\n",
        "loss_fn = torch.nn.MSELoss()\n",
        "optimizer = torch.optim.RMSprop(model.parameters(), lr=1e-2)"
      ],
      "metadata": {
        "id": "UJATC0eCMcIo"
      },
      "execution_count": 29,
      "outputs": []
    },
    {
      "cell_type": "code",
      "source": [
        "i_print=True\n",
        "\n",
        "def train(x_train,y_train, model, loss_fn, optimizer):\n",
        "    #TELL MODEL IT SHOULD BE TRAINING\n",
        "    model.train()\n",
        "\n",
        "    #BATCH IMPLEMENTATION \n",
        "    X, y = x_train.to(device).float(), y_train.to(device).float()\n",
        "\n",
        "    # Compute prediction error\n",
        "    pred = model(X)\n",
        "    loss = loss_fn(pred, y)\n",
        "\n",
        "    # Backpropagation\n",
        "    optimizer.zero_grad()\n",
        "    loss.backward()\n",
        "    optimizer.step()\n",
        "\n",
        "    # if t % 5 == 0:\n",
        "    loss = loss.item() \n",
        "    train_loss_history.append(loss)\n",
        "\n",
        "    if(i_print):\n",
        "        print(f\"loss: {loss:>7f}\")"
      ],
      "metadata": {
        "id": "bsU-jmyFMeZM"
      },
      "execution_count": 30,
      "outputs": []
    },
    {
      "cell_type": "code",
      "source": [
        "def validate(x_val,y_val, model, loss_fn):\n",
        "    #TELL MODEL IT SHOULD BE EVALUATING\n",
        "    model.eval()\n",
        "    X, y = x_val.to(device).float(), y_val.to(device).float()\n",
        "    pred = model(X)\n",
        "    val_loss = loss_fn(pred, y).item()\n",
        "    val_loss_history.append(val_loss)\n",
        "    if(i_print):\n",
        "        print(f\"Test Error: {val_loss:>8f}\")"
      ],
      "metadata": {
        "id": "S7_NDVB6Mgo6"
      },
      "execution_count": 31,
      "outputs": []
    },
    {
      "cell_type": "code",
      "source": [
        "epochs = 600\n",
        "\n",
        "for t in range(epochs):\n",
        "    epoch_array.append(t)\n",
        "    if t%30==0:\n",
        "        i_print=True\n",
        "        print(f\"-------------------------------\\nEpoch {t}\")\n",
        "    else: \n",
        "        i_print=False\n",
        "\n",
        "    train(x_train,y_train, model, loss_fn, optimizer)\n",
        "    validate(x_val,y_val, model, loss_fn)\n",
        "print(\"Done!\")"
      ],
      "metadata": {
        "colab": {
          "base_uri": "https://localhost:8080/"
        },
        "id": "ivdKrq23Mi_3",
        "outputId": "a3db1c6c-c82f-4b10-d814-4654bdcf98c6"
      },
      "execution_count": 32,
      "outputs": [
        {
          "output_type": "stream",
          "name": "stdout",
          "text": [
            "-------------------------------\n",
            "Epoch 0\n",
            "loss: 0.825941\n",
            "Test Error: 0.265786\n",
            "-------------------------------\n",
            "Epoch 30\n",
            "loss: 0.229689\n",
            "Test Error: 0.243920\n",
            "-------------------------------\n",
            "Epoch 60\n",
            "loss: 0.123656\n",
            "Test Error: 0.138927\n",
            "-------------------------------\n",
            "Epoch 90\n",
            "loss: 0.028624\n",
            "Test Error: 0.080741\n",
            "-------------------------------\n",
            "Epoch 120\n",
            "loss: 0.016191\n",
            "Test Error: 0.084567\n",
            "-------------------------------\n",
            "Epoch 150\n",
            "loss: 0.013061\n",
            "Test Error: 0.088593\n",
            "-------------------------------\n",
            "Epoch 180\n",
            "loss: 0.011388\n",
            "Test Error: 0.091067\n",
            "-------------------------------\n",
            "Epoch 210\n",
            "loss: 0.010661\n",
            "Test Error: 0.090029\n",
            "-------------------------------\n",
            "Epoch 240\n",
            "loss: 0.009986\n",
            "Test Error: 0.092052\n",
            "-------------------------------\n",
            "Epoch 270\n",
            "loss: 0.009443\n",
            "Test Error: 0.093326\n",
            "-------------------------------\n",
            "Epoch 300\n",
            "loss: 0.008989\n",
            "Test Error: 0.094404\n",
            "-------------------------------\n",
            "Epoch 330\n",
            "loss: 0.008627\n",
            "Test Error: 0.095302\n",
            "-------------------------------\n",
            "Epoch 360\n",
            "loss: 0.008269\n",
            "Test Error: 0.096019\n",
            "-------------------------------\n",
            "Epoch 390\n",
            "loss: 0.007841\n",
            "Test Error: 0.096859\n",
            "-------------------------------\n",
            "Epoch 420\n",
            "loss: 0.007311\n",
            "Test Error: 0.095007\n",
            "-------------------------------\n",
            "Epoch 450\n",
            "loss: 0.006888\n",
            "Test Error: 0.096139\n",
            "-------------------------------\n",
            "Epoch 480\n",
            "loss: 0.006487\n",
            "Test Error: 0.096746\n",
            "-------------------------------\n",
            "Epoch 510\n",
            "loss: 0.006239\n",
            "Test Error: 0.097493\n",
            "-------------------------------\n",
            "Epoch 540\n",
            "loss: 0.006160\n",
            "Test Error: 0.098207\n",
            "-------------------------------\n",
            "Epoch 570\n",
            "loss: 0.006822\n",
            "Test Error: 0.099507\n",
            "Done!\n"
          ]
        }
      ]
    },
    {
      "cell_type": "code",
      "source": [
        "# PLOT THE FIGURE\n",
        "y_pred = model(x_train.float())\n",
        "\n",
        "# PLOT THE FIGURE\n",
        "# ax.scatter(x_val[:,0], x_val[:,1], y_val, c = 'r', marker='o')\n",
        "fig = plt.figure()\n",
        "ax = fig.add_subplot(111, projection='3d')\n",
        "ax.scatter(x_train[:,0], x_train[:,1], y_train, c = 'b', marker='o')\n",
        "ax.scatter(x_train[:,0], x_train[:,1], y_pred.detach().numpy(), c = 'r', marker='o')\n",
        "plt.show()"
      ],
      "metadata": {
        "id": "YWzIV_pnMlYT"
      },
      "execution_count": null,
      "outputs": []
    },
    {
      "cell_type": "code",
      "source": [
        "y_pred = model(x_train.float())\n",
        "\n",
        "fig, ax = plt.subplots()\n",
        "ax.plot(epoch_array, train_loss_history, '.', label='training loss')\n",
        "ax.plot(epoch_array, val_loss_history, '.', label='validation loss')\n",
        "ax.legend()\n",
        "plt.show()"
      ],
      "metadata": {
        "colab": {
          "base_uri": "https://localhost:8080/",
          "height": 265
        },
        "id": "3rzy0VSwMoZA",
        "outputId": "d8fe6e9b-ba1f-4c93-e00d-bfd4ad77f351"
      },
      "execution_count": 34,
      "outputs": [
        {
          "output_type": "display_data",
          "data": {
            "text/plain": [
              "<Figure size 432x288 with 1 Axes>"
            ],
            "image/png": "[encoded data removed]"
          },
          "metadata": {
            "needs_background": "light"
          }
        }
      ]
    },
    {
      "cell_type": "markdown",
      "metadata": {
        "id": "5MqMktGjUXdU"
      },
      "source": [
        "## Multi-class Classification"
      ]
    },
    {
      "cell_type": "markdown",
      "metadata": {
        "id": "cc8159_bUXdU"
      },
      "source": [
        "### Data preparation \n",
        "\n",
        "* Insert cells below"
      ]
    },
    {
      "cell_type": "code",
      "execution_count": 35,
      "metadata": {
        "id": "neELuU5HUXdU",
        "outputId": "0c7d6472-7365-42bf-cd3e-89f867060c87",
        "colab": {
          "base_uri": "https://localhost:8080/"
        }
      },
      "outputs": [
        {
          "output_type": "stream",
          "name": "stdout",
          "text": [
            "Downloading data from https://storage.googleapis.com/tensorflow/tf-keras-datasets/reuters.npz\n",
            "2113536/2110848 [==============================] - 0s 0us/step\n",
            "2121728/2110848 [==============================] - 0s 0us/step\n"
          ]
        }
      ],
      "source": [
        "from keras.datasets import reuters\n",
        "(train_data, train_labels), (test_data, test_labels) = reuters.load_data(num_words=10000)"
      ]
    },
    {
      "cell_type": "code",
      "execution_count": 36,
      "metadata": {
        "id": "6jGpdaAQUXdU",
        "outputId": "498b34ea-ca5d-4287-f810-7ae3434b6d22",
        "colab": {
          "base_uri": "https://localhost:8080/"
        }
      },
      "outputs": [
        {
          "output_type": "execute_result",
          "data": {
            "text/plain": [
              "8982"
            ]
          },
          "metadata": {},
          "execution_count": 36
        }
      ],
      "source": [
        "len(train_data)"
      ]
    },
    {
      "cell_type": "code",
      "execution_count": 37,
      "metadata": {
        "id": "5LROoIIjUXdU",
        "outputId": "9911549e-523e-4afd-f3d6-5614c259669e",
        "colab": {
          "base_uri": "https://localhost:8080/"
        }
      },
      "outputs": [
        {
          "output_type": "execute_result",
          "data": {
            "text/plain": [
              "2246"
            ]
          },
          "metadata": {},
          "execution_count": 37
        }
      ],
      "source": [
        "len(test_data)"
      ]
    },
    {
      "cell_type": "code",
      "execution_count": 38,
      "metadata": {
        "id": "InS6U6vZUXdU",
        "outputId": "82e97d8b-942c-4a6a-f508-7d5dd625c210",
        "colab": {
          "base_uri": "https://localhost:8080/"
        }
      },
      "outputs": [
        {
          "output_type": "execute_result",
          "data": {
            "text/plain": [
              "[1,\n",
              " 245,\n",
              " 273,\n",
              " 207,\n",
              " 156,\n",
              " 53,\n",
              " 74,\n",
              " 160,\n",
              " 26,\n",
              " 14,\n",
              " 46,\n",
              " 296,\n",
              " 26,\n",
              " 39,\n",
              " 74,\n",
              " 2979,\n",
              " 3554,\n",
              " 14,\n",
              " 46,\n",
              " 4689,\n",
              " 4329,\n",
              " 86,\n",
              " 61,\n",
              " 3499,\n",
              " 4795,\n",
              " 14,\n",
              " 61,\n",
              " 451,\n",
              " 4329,\n",
              " 17,\n",
              " 12]"
            ]
          },
          "metadata": {},
          "execution_count": 38
        }
      ],
      "source": [
        "train_data[10]"
      ]
    },
    {
      "cell_type": "code",
      "execution_count": 39,
      "metadata": {
        "id": "V48GEoIOUXdV",
        "colab": {
          "base_uri": "https://localhost:8080/"
        },
        "outputId": "ca81f64c-a407-4e2f-bb2a-31f34a8f949c"
      },
      "outputs": [
        {
          "output_type": "stream",
          "name": "stdout",
          "text": [
            "Downloading data from https://storage.googleapis.com/tensorflow/tf-keras-datasets/reuters_word_index.json\n",
            "557056/550378 [==============================] - 0s 0us/step\n",
            "565248/550378 [==============================] - 0s 0us/step\n"
          ]
        }
      ],
      "source": [
        "word_index = reuters.get_word_index()\n",
        "reverse_word_index = dict([(value, key) for (key, value) in word_index.items()])\n",
        "decoded_newswire = ' '.join([reverse_word_index.get(i - 3, '?') for i in train_data[0]])"
      ]
    },
    {
      "cell_type": "code",
      "execution_count": 40,
      "metadata": {
        "id": "nrcxos8RUXdV",
        "outputId": "6c3d63a4-9ed9-4771-ac76-69a8d334fbbb",
        "colab": {
          "base_uri": "https://localhost:8080/"
        }
      },
      "outputs": [
        {
          "output_type": "execute_result",
          "data": {
            "text/plain": [
              "3"
            ]
          },
          "metadata": {},
          "execution_count": 40
        }
      ],
      "source": [
        "train_labels[10]"
      ]
    },
    {
      "cell_type": "code",
      "execution_count": 41,
      "metadata": {
        "id": "VZ-_VZ1cUXdV"
      },
      "outputs": [],
      "source": [
        "import numpy as np\n",
        "def vectorize_sequences(sequences, dimension=10000):\n",
        "    results = np.zeros((len(sequences), dimension))\n",
        "    for i, sequence in enumerate(sequences):\n",
        "        results[i, sequence] = 1.\n",
        "    return results\n",
        "x_train = vectorize_sequences(train_data)\n",
        "x_test = vectorize_sequences(test_data)"
      ]
    },
    {
      "cell_type": "code",
      "execution_count": 42,
      "metadata": {
        "id": "uWNDxwTbUXdV"
      },
      "outputs": [],
      "source": [
        "def to_one_hot(labels, dimension=46):\n",
        "    results = np.zeros((len(labels), dimension))\n",
        "    for i, label in enumerate(labels):\n",
        "        results[i, label] = 1.\n",
        "    return results\n",
        "one_hot_train_labels = to_one_hot(train_labels)\n",
        "one_hot_test_labels = to_one_hot(test_labels)"
      ]
    },
    {
      "cell_type": "code",
      "execution_count": 43,
      "metadata": {
        "id": "LMRpf5cSUXdV"
      },
      "outputs": [],
      "source": [
        "from keras.utils.np_utils import to_categorical\n",
        "one_hot_train_labels = to_categorical(train_labels)\n",
        "one_hot_test_labels = to_categorical(test_labels)"
      ]
    },
    {
      "cell_type": "markdown",
      "metadata": {
        "id": "hYATf3-oUXdV"
      },
      "source": [
        "### Keras training\n",
        "\n",
        "* Insert cells below"
      ]
    },
    {
      "cell_type": "code",
      "execution_count": 44,
      "metadata": {
        "id": "CYMHhZRkUXdV"
      },
      "outputs": [],
      "source": [
        "#model definition\n",
        "from keras import models\n",
        "from keras import layers\n",
        "from keras import regularizers\n",
        "model = models.Sequential()\n",
        "model.add(layers.Dense(64, #kernel_regularizer = regularizers.l1_l2(l1 = 1e-5, l2 = 1e-4),\n",
        "                       activation='relu', input_shape=(10000,)))\n",
        "model.add(layers.Dense(64, activation='relu'))\n",
        "model.add(layers.Dense(46, activation='softmax'))"
      ]
    },
    {
      "cell_type": "code",
      "execution_count": 45,
      "metadata": {
        "id": "BavKQ2CcUXdW"
      },
      "outputs": [],
      "source": [
        "#compiling the model\n",
        "model.compile(optimizer='rmsprop',loss='categorical_crossentropy',metrics=['accuracy'])"
      ]
    },
    {
      "cell_type": "code",
      "execution_count": 46,
      "metadata": {
        "id": "ITj4XGA_UXdW"
      },
      "outputs": [],
      "source": [
        "#setting aside the validation set\n",
        "x_val = x_train[:1000]\n",
        "partial_x_train = x_train[1000:]\n",
        "y_val = one_hot_train_labels[:1000]\n",
        "partial_y_train = one_hot_train_labels[1000:]"
      ]
    },
    {
      "cell_type": "code",
      "execution_count": 47,
      "metadata": {
        "id": "IpkLGRCkUXdW",
        "outputId": "bae4ea2b-51ef-4065-f6eb-b3334531eaa6",
        "colab": {
          "base_uri": "https://localhost:8080/"
        }
      },
      "outputs": [
        {
          "output_type": "stream",
          "name": "stdout",
          "text": [
            "Epoch 1/20\n",
            "16/16 [==============================] - 1s 38ms/step - loss: 2.5338 - accuracy: 0.5195 - val_loss: 1.6504 - val_accuracy: 0.6400\n",
            "Epoch 2/20\n",
            "16/16 [==============================] - 0s 29ms/step - loss: 1.3472 - accuracy: 0.7111 - val_loss: 1.2664 - val_accuracy: 0.7250\n",
            "Epoch 3/20\n",
            "16/16 [==============================] - 0s 29ms/step - loss: 1.0086 - accuracy: 0.7789 - val_loss: 1.1284 - val_accuracy: 0.7420\n",
            "Epoch 4/20\n",
            "16/16 [==============================] - 0s 31ms/step - loss: 0.8065 - accuracy: 0.8205 - val_loss: 1.0517 - val_accuracy: 0.7670\n",
            "Epoch 5/20\n",
            "16/16 [==============================] - 0s 28ms/step - loss: 0.6486 - accuracy: 0.8603 - val_loss: 0.9742 - val_accuracy: 0.8000\n",
            "Epoch 6/20\n",
            "16/16 [==============================] - 0s 29ms/step - loss: 0.5231 - accuracy: 0.8860 - val_loss: 0.9432 - val_accuracy: 0.8030\n",
            "Epoch 7/20\n",
            "16/16 [==============================] - 0s 28ms/step - loss: 0.4252 - accuracy: 0.9095 - val_loss: 0.9335 - val_accuracy: 0.8100\n",
            "Epoch 8/20\n",
            "16/16 [==============================] - 0s 29ms/step - loss: 0.3460 - accuracy: 0.9287 - val_loss: 0.9604 - val_accuracy: 0.7950\n",
            "Epoch 9/20\n",
            "16/16 [==============================] - 0s 29ms/step - loss: 0.2885 - accuracy: 0.9340 - val_loss: 0.9115 - val_accuracy: 0.8130\n",
            "Epoch 10/20\n",
            "16/16 [==============================] - 0s 30ms/step - loss: 0.2454 - accuracy: 0.9449 - val_loss: 0.9280 - val_accuracy: 0.8140\n",
            "Epoch 11/20\n",
            "16/16 [==============================] - 0s 29ms/step - loss: 0.2084 - accuracy: 0.9475 - val_loss: 0.9515 - val_accuracy: 0.8070\n",
            "Epoch 12/20\n",
            "16/16 [==============================] - 0s 28ms/step - loss: 0.1881 - accuracy: 0.9514 - val_loss: 0.9851 - val_accuracy: 0.8080\n",
            "Epoch 13/20\n",
            "16/16 [==============================] - 0s 29ms/step - loss: 0.1653 - accuracy: 0.9533 - val_loss: 0.9872 - val_accuracy: 0.8050\n",
            "Epoch 14/20\n",
            "16/16 [==============================] - 0s 28ms/step - loss: 0.1507 - accuracy: 0.9541 - val_loss: 0.9840 - val_accuracy: 0.8120\n",
            "Epoch 15/20\n",
            "16/16 [==============================] - 0s 29ms/step - loss: 0.1416 - accuracy: 0.9563 - val_loss: 1.0143 - val_accuracy: 0.8030\n",
            "Epoch 16/20\n",
            "16/16 [==============================] - 0s 27ms/step - loss: 0.1347 - accuracy: 0.9544 - val_loss: 1.0329 - val_accuracy: 0.8020\n",
            "Epoch 17/20\n",
            "16/16 [==============================] - 0s 29ms/step - loss: 0.1249 - accuracy: 0.9563 - val_loss: 1.0470 - val_accuracy: 0.8000\n",
            "Epoch 18/20\n",
            "16/16 [==============================] - 0s 29ms/step - loss: 0.1227 - accuracy: 0.9577 - val_loss: 1.0385 - val_accuracy: 0.8040\n",
            "Epoch 19/20\n",
            "16/16 [==============================] - 0s 29ms/step - loss: 0.1150 - accuracy: 0.9572 - val_loss: 1.1247 - val_accuracy: 0.7920\n",
            "Epoch 20/20\n",
            "16/16 [==============================] - 0s 29ms/step - loss: 0.1159 - accuracy: 0.9583 - val_loss: 1.0946 - val_accuracy: 0.8050\n"
          ]
        }
      ],
      "source": [
        "history = model.fit(partial_x_train,partial_y_train,epochs=20,batch_size=512,validation_data=(x_val, y_val))"
      ]
    },
    {
      "cell_type": "code",
      "execution_count": 48,
      "metadata": {
        "id": "I0k4q2sWUXdW",
        "outputId": "205e55cd-79d7-4627-db9d-98bea1a2efd8",
        "colab": {
          "base_uri": "https://localhost:8080/"
        }
      },
      "outputs": [
        {
          "output_type": "execute_result",
          "data": {
            "text/plain": [
              "dict_keys(['loss', 'accuracy', 'val_loss', 'val_accuracy'])"
            ]
          },
          "metadata": {},
          "execution_count": 48
        }
      ],
      "source": [
        "history_dict1 = history.history\n",
        "history_dict1.keys()"
      ]
    },
    {
      "cell_type": "code",
      "execution_count": 49,
      "metadata": {
        "id": "EuNAuv88UXdW",
        "outputId": "cac18510-82b1-4586-9431-8bf532e6afd3",
        "colab": {
          "base_uri": "https://localhost:8080/",
          "height": 295
        }
      },
      "outputs": [
        {
          "output_type": "display_data",
          "data": {
            "text/plain": [
              "<Figure size 432x288 with 1 Axes>"
            ],
            "image/png": "[encoded data removed]"
          },
          "metadata": {
            "needs_background": "light"
          }
        }
      ],
      "source": [
        "import matplotlib.pyplot as plt\n",
        "loss = history.history['loss']\n",
        "val_loss = history.history['val_loss']\n",
        "epochs = range(1, len(loss) + 1)\n",
        "plt.plot(epochs, loss, 'bo', label='Training loss')\n",
        "plt.plot(epochs, val_loss, 'b', label='Validation loss')\n",
        "plt.title('Training and validation loss')\n",
        "plt.xlabel('Epochs')\n",
        "plt.ylabel('Loss')\n",
        "plt.legend()\n",
        "plt.show()"
      ]
    },
    {
      "cell_type": "code",
      "execution_count": 50,
      "metadata": {
        "id": "UvQP0K5AUXdW",
        "outputId": "79346b34-b563-44f9-a988-b5c9874bddb2",
        "colab": {
          "base_uri": "https://localhost:8080/",
          "height": 295
        }
      },
      "outputs": [
        {
          "output_type": "display_data",
          "data": {
            "text/plain": [
              "<Figure size 432x288 with 1 Axes>"
            ],
            "image/png": "[encoded data removed]"
          },
          "metadata": {
            "needs_background": "light"
          }
        }
      ],
      "source": [
        "plt.clf()\n",
        "acc = history_dict1['accuracy']\n",
        "val_acc = history_dict1['val_accuracy']\n",
        "plt.plot(epochs, acc, 'bo', label='Training acc')\n",
        "plt.plot(epochs, val_acc, 'b', label='Validation acc')\n",
        "plt.title('Training and validation accuracy')\n",
        "plt.xlabel('Epochs')\n",
        "plt.ylabel('Loss')\n",
        "plt.legend()\n",
        "plt.show()"
      ]
    },
    {
      "cell_type": "code",
      "execution_count": 51,
      "metadata": {
        "id": "Jm8SeLHyUXdW",
        "outputId": "4d729d10-d0a5-4567-a85c-dd5e2b5c12f2",
        "colab": {
          "base_uri": "https://localhost:8080/"
        }
      },
      "outputs": [
        {
          "output_type": "stream",
          "name": "stdout",
          "text": [
            "Epoch 1/9\n",
            "16/16 [==============================] - 1s 39ms/step - loss: 2.6019 - accuracy: 0.5301 - val_loss: 1.7414 - val_accuracy: 0.6530\n",
            "Epoch 2/9\n",
            "16/16 [==============================] - 1s 40ms/step - loss: 1.4331 - accuracy: 0.7065 - val_loss: 1.3249 - val_accuracy: 0.7040\n",
            "Epoch 3/9\n",
            "16/16 [==============================] - 1s 41ms/step - loss: 1.0728 - accuracy: 0.7636 - val_loss: 1.1827 - val_accuracy: 0.7480\n",
            "Epoch 4/9\n",
            "16/16 [==============================] - 1s 39ms/step - loss: 0.8554 - accuracy: 0.8111 - val_loss: 1.0468 - val_accuracy: 0.7780\n",
            "Epoch 5/9\n",
            "16/16 [==============================] - 1s 40ms/step - loss: 0.6777 - accuracy: 0.8603 - val_loss: 0.9871 - val_accuracy: 0.7940\n",
            "Epoch 6/9\n",
            "16/16 [==============================] - 1s 39ms/step - loss: 0.5440 - accuracy: 0.8867 - val_loss: 0.9380 - val_accuracy: 0.8040\n",
            "Epoch 7/9\n",
            "16/16 [==============================] - 1s 39ms/step - loss: 0.4361 - accuracy: 0.9108 - val_loss: 0.9282 - val_accuracy: 0.8040\n",
            "Epoch 8/9\n",
            "16/16 [==============================] - 1s 40ms/step - loss: 0.3573 - accuracy: 0.9242 - val_loss: 0.8939 - val_accuracy: 0.8150\n",
            "Epoch 9/9\n",
            "16/16 [==============================] - 1s 40ms/step - loss: 0.2951 - accuracy: 0.9389 - val_loss: 0.9059 - val_accuracy: 0.8170\n",
            "71/71 [==============================] - 0s 2ms/step - loss: 0.9842 - accuracy: 0.7867\n"
          ]
        }
      ],
      "source": [
        "model = models.Sequential()\n",
        "model.add(layers.Dense(64, activation='relu', input_shape=(10000,)))\n",
        "model.add(layers.Dense(64, activation='relu'))\n",
        "model.add(layers.Dense(46, activation='softmax'))\n",
        "model.compile(optimizer='rmsprop',loss='categorical_crossentropy',metrics=['accuracy'])\n",
        "model.fit(partial_x_train,partial_y_train,epochs=9,batch_size=512,validation_data=(x_val, y_val))\n",
        "results = model.evaluate(x_test, one_hot_test_labels)"
      ]
    },
    {
      "cell_type": "code",
      "execution_count": 52,
      "metadata": {
        "id": "clwk2jJuUXdW",
        "outputId": "c6a0a17a-a1df-4f60-e71e-43733af03b87",
        "colab": {
          "base_uri": "https://localhost:8080/"
        }
      },
      "outputs": [
        {
          "output_type": "execute_result",
          "data": {
            "text/plain": [
              "[0.9841898679733276, 0.7867319583892822]"
            ]
          },
          "metadata": {},
          "execution_count": 52
        }
      ],
      "source": [
        "results"
      ]
    },
    {
      "cell_type": "code",
      "execution_count": 53,
      "metadata": {
        "id": "CsPBfgoIUXdX",
        "outputId": "ac10279a-9b43-41f2-d7d8-9d28d3d3065b",
        "colab": {
          "base_uri": "https://localhost:8080/"
        }
      },
      "outputs": [
        {
          "output_type": "execute_result",
          "data": {
            "text/plain": [
              "0.18477292965271594"
            ]
          },
          "metadata": {},
          "execution_count": 53
        }
      ],
      "source": [
        "import copy\n",
        "test_labels_copy = copy.copy(test_labels)\n",
        "np.random.shuffle(test_labels_copy)\n",
        "hits_array = np.array(test_labels) == np.array(test_labels_copy)\n",
        "float(np.sum(hits_array)) / len(test_labels)"
      ]
    },
    {
      "cell_type": "code",
      "execution_count": 54,
      "metadata": {
        "id": "lwdHx-AEUXdX"
      },
      "outputs": [],
      "source": [
        "predictions = model.predict(x_test)"
      ]
    },
    {
      "cell_type": "code",
      "execution_count": 55,
      "metadata": {
        "id": "DK5zk69dUXdX",
        "outputId": "3120a97f-3177-4da3-833a-ca55fd5ec776",
        "colab": {
          "base_uri": "https://localhost:8080/"
        }
      },
      "outputs": [
        {
          "output_type": "execute_result",
          "data": {
            "text/plain": [
              "(46,)"
            ]
          },
          "metadata": {},
          "execution_count": 55
        }
      ],
      "source": [
        "predictions[0].shape"
      ]
    },
    {
      "cell_type": "code",
      "execution_count": 56,
      "metadata": {
        "id": "qRT_WrcfUXdX",
        "outputId": "9bdcd15e-a5e2-4a90-d254-60d3125cb387",
        "colab": {
          "base_uri": "https://localhost:8080/"
        }
      },
      "outputs": [
        {
          "output_type": "execute_result",
          "data": {
            "text/plain": [
              "1.0"
            ]
          },
          "metadata": {},
          "execution_count": 56
        }
      ],
      "source": [
        "np.sum(predictions[0])"
      ]
    },
    {
      "cell_type": "code",
      "execution_count": 57,
      "metadata": {
        "id": "RUNH_ZB2UXdX",
        "outputId": "40178b32-09db-491b-871a-7989b2f866f0",
        "colab": {
          "base_uri": "https://localhost:8080/"
        }
      },
      "outputs": [
        {
          "output_type": "execute_result",
          "data": {
            "text/plain": [
              "3"
            ]
          },
          "metadata": {},
          "execution_count": 57
        }
      ],
      "source": [
        "np.argmax(predictions[0])"
      ]
    },
    {
      "cell_type": "code",
      "execution_count": 58,
      "metadata": {
        "id": "OxtW_0kcUXdX"
      },
      "outputs": [],
      "source": [
        "predictions = model.predict(x_test)"
      ]
    },
    {
      "cell_type": "code",
      "source": [
        "y_train = np.array(train_labels)\n",
        "y_test = np.array(test_labels)"
      ],
      "metadata": {
        "id": "BWg5_diyUqZl"
      },
      "execution_count": 59,
      "outputs": []
    },
    {
      "cell_type": "code",
      "source": [
        "model.compile(optimizer='rmsprop',loss='sparse_categorical_crossentropy',metrics=['acc'])"
      ],
      "metadata": {
        "id": "6jKTdJqCUrN5"
      },
      "execution_count": 60,
      "outputs": []
    },
    {
      "cell_type": "code",
      "source": [
        "model = models.Sequential()\n",
        "model.add(layers.Dense(64, activation='relu', input_shape=(10000,)))\n",
        "model.add(layers.Dense(4, activation='relu'))\n",
        "model.add(layers.Dense(46, activation='softmax'))\n",
        "model.compile(optimizer='rmsprop',loss='categorical_crossentropy',metrics=['accuracy'])\n",
        "model.fit(partial_x_train,partial_y_train,epochs=20,batch_size=128,validation_data=(x_val, y_val))"
      ],
      "metadata": {
        "id": "ovRtPze6UxT7",
        "colab": {
          "base_uri": "https://localhost:8080/"
        },
        "outputId": "6a302666-777f-4cb3-ff7a-962cb0ea0e4c"
      },
      "execution_count": 61,
      "outputs": [
        {
          "output_type": "stream",
          "name": "stdout",
          "text": [
            "Epoch 1/20\n",
            "63/63 [==============================] - 1s 13ms/step - loss: 2.8917 - accuracy: 0.2937 - val_loss: 2.2137 - val_accuracy: 0.3660\n",
            "Epoch 2/20\n",
            "63/63 [==============================] - 1s 11ms/step - loss: 1.8792 - accuracy: 0.4387 - val_loss: 1.6551 - val_accuracy: 0.5890\n",
            "Epoch 3/20\n",
            "63/63 [==============================] - 1s 11ms/step - loss: 1.4258 - accuracy: 0.6373 - val_loss: 1.4743 - val_accuracy: 0.6470\n",
            "Epoch 4/20\n",
            "63/63 [==============================] - 1s 11ms/step - loss: 1.2288 - accuracy: 0.6989 - val_loss: 1.4161 - val_accuracy: 0.6770\n",
            "Epoch 5/20\n",
            "63/63 [==============================] - 1s 11ms/step - loss: 1.1117 - accuracy: 0.7170 - val_loss: 1.3768 - val_accuracy: 0.6850\n",
            "Epoch 6/20\n",
            "63/63 [==============================] - 1s 11ms/step - loss: 1.0293 - accuracy: 0.7251 - val_loss: 1.3707 - val_accuracy: 0.6840\n",
            "Epoch 7/20\n",
            "63/63 [==============================] - 1s 11ms/step - loss: 0.9677 - accuracy: 0.7326 - val_loss: 1.3952 - val_accuracy: 0.6780\n",
            "Epoch 8/20\n",
            "63/63 [==============================] - 1s 11ms/step - loss: 0.9161 - accuracy: 0.7419 - val_loss: 1.4316 - val_accuracy: 0.6830\n",
            "Epoch 9/20\n",
            "63/63 [==============================] - 1s 11ms/step - loss: 0.8728 - accuracy: 0.7544 - val_loss: 1.4637 - val_accuracy: 0.6870\n",
            "Epoch 10/20\n",
            "63/63 [==============================] - 1s 11ms/step - loss: 0.8372 - accuracy: 0.7653 - val_loss: 1.5491 - val_accuracy: 0.6860\n",
            "Epoch 11/20\n",
            "63/63 [==============================] - 1s 11ms/step - loss: 0.8040 - accuracy: 0.7780 - val_loss: 1.5639 - val_accuracy: 0.6840\n",
            "Epoch 12/20\n",
            "63/63 [==============================] - 1s 10ms/step - loss: 0.7771 - accuracy: 0.7830 - val_loss: 1.6092 - val_accuracy: 0.6880\n",
            "Epoch 13/20\n",
            "63/63 [==============================] - 1s 11ms/step - loss: 0.7517 - accuracy: 0.7849 - val_loss: 1.6396 - val_accuracy: 0.6880\n",
            "Epoch 14/20\n",
            "63/63 [==============================] - 1s 11ms/step - loss: 0.7293 - accuracy: 0.7860 - val_loss: 1.6684 - val_accuracy: 0.6900\n",
            "Epoch 15/20\n",
            "63/63 [==============================] - 1s 11ms/step - loss: 0.7095 - accuracy: 0.7878 - val_loss: 1.7736 - val_accuracy: 0.6880\n",
            "Epoch 16/20\n",
            "63/63 [==============================] - 1s 11ms/step - loss: 0.6922 - accuracy: 0.7904 - val_loss: 1.8196 - val_accuracy: 0.6810\n",
            "Epoch 17/20\n",
            "63/63 [==============================] - 1s 11ms/step - loss: 0.6742 - accuracy: 0.7908 - val_loss: 1.8471 - val_accuracy: 0.6900\n",
            "Epoch 18/20\n",
            "63/63 [==============================] - 1s 11ms/step - loss: 0.6664 - accuracy: 0.7933 - val_loss: 1.9927 - val_accuracy: 0.6790\n",
            "Epoch 19/20\n",
            "63/63 [==============================] - 1s 11ms/step - loss: 0.6521 - accuracy: 0.7945 - val_loss: 1.8792 - val_accuracy: 0.6810\n",
            "Epoch 20/20\n",
            "63/63 [==============================] - 1s 11ms/step - loss: 0.6399 - accuracy: 0.7959 - val_loss: 2.0662 - val_accuracy: 0.6760\n"
          ]
        },
        {
          "output_type": "execute_result",
          "data": {
            "text/plain": [
              "<keras.callbacks.History at 0x7ff7f3085050>"
            ]
          },
          "metadata": {},
          "execution_count": 61
        }
      ]
    },
    {
      "cell_type": "markdown",
      "metadata": {
        "id": "PbddvfqjUXdX"
      },
      "source": [
        "### Pytorch training\n",
        "\n",
        "* Insert cells below"
      ]
    },
    {
      "cell_type": "code",
      "source": [
        "# GET CPU OR GPU DEVICE FOR TRAINING.\n",
        "device = \"cuda\" if torch.cuda.is_available() else \"cpu\"\n",
        "print(f\"USING {device} DEVICE\")\n",
        "\n",
        "input_dimension=x.shape[1] \n",
        "\n",
        "# # Define model\n",
        "class NeuralNetwork(torch.nn.Module):\n",
        "    def __init__(self):\n",
        "        #__init__() call to the parent class\n",
        "        super(NeuralNetwork, self).__init__()\n",
        "        #define linear model\n",
        "        self.linear_model = torch.nn.Sequential(\n",
        "            torch.nn.Linear(input_dimension, 6),\n",
        "            torch.nn.Sigmoid(),\n",
        "            torch.nn.Linear(6, 6),\n",
        "            torch.nn.Sigmoid(),\n",
        "            torch.nn.Linear(6, 1),\n",
        "        )\n",
        "\n",
        "    #FORWARD PASS (EVALUATION OF MODEL)\n",
        "    def forward(self, x):\n",
        "        out = self.linear_model(x)\n",
        "        return out\n",
        "\n",
        "#INITIALIZE MODEL \n",
        "model = NeuralNetwork().to(device)\n",
        "print(model)"
      ],
      "metadata": {
        "colab": {
          "base_uri": "https://localhost:8080/"
        },
        "id": "dVFgbwRzTC8k",
        "outputId": "d1780616-262f-4ead-c849-d04cafa30245"
      },
      "execution_count": 69,
      "outputs": [
        {
          "output_type": "stream",
          "name": "stdout",
          "text": [
            "USING cpu DEVICE\n",
            "NeuralNetwork(\n",
            "  (linear_model): Sequential(\n",
            "    (0): Linear(in_features=10000, out_features=6, bias=True)\n",
            "    (1): Sigmoid()\n",
            "    (2): Linear(in_features=6, out_features=6, bias=True)\n",
            "    (3): Sigmoid()\n",
            "    (4): Linear(in_features=6, out_features=1, bias=True)\n",
            "  )\n",
            ")\n"
          ]
        }
      ]
    },
    {
      "cell_type": "code",
      "source": [
        "for param in model.parameters():\n",
        "    print(param)\n",
        "    print(param.shape)\n",
        "    print(param.requires_grad)"
      ],
      "metadata": {
        "colab": {
          "base_uri": "https://localhost:8080/"
        },
        "id": "t9C6tSaFTV3-",
        "outputId": "6c2cd6e2-ff90-41a0-f430-9205757223ae"
      },
      "execution_count": 70,
      "outputs": [
        {
          "output_type": "stream",
          "name": "stdout",
          "text": [
            "Parameter containing:\n",
            "tensor([[-0.0073,  0.0031,  0.0046,  ...,  0.0031, -0.0051,  0.0060],\n",
            "        [ 0.0090, -0.0003, -0.0034,  ...,  0.0075,  0.0037, -0.0031],\n",
            "        [-0.0066,  0.0055,  0.0047,  ..., -0.0066,  0.0084, -0.0069],\n",
            "        [ 0.0080, -0.0051,  0.0036,  ...,  0.0084,  0.0050,  0.0042],\n",
            "        [ 0.0061,  0.0026, -0.0087,  ..., -0.0025,  0.0037, -0.0003],\n",
            "        [ 0.0003, -0.0053, -0.0025,  ...,  0.0097,  0.0095,  0.0008]],\n",
            "       requires_grad=True)\n",
            "torch.Size([6, 10000])\n",
            "True\n",
            "Parameter containing:\n",
            "tensor([ 0.0005,  0.0091, -0.0054,  0.0050,  0.0081, -0.0096],\n",
            "       requires_grad=True)\n",
            "torch.Size([6])\n",
            "True\n",
            "Parameter containing:\n",
            "tensor([[ 0.1769, -0.2262, -0.1600,  0.2875,  0.2448, -0.2232],\n",
            "        [-0.0616, -0.2983, -0.1500, -0.3924, -0.2717,  0.1926],\n",
            "        [-0.3357, -0.1281,  0.3110,  0.1287,  0.3272,  0.2298],\n",
            "        [ 0.4067, -0.0770, -0.3626,  0.3598,  0.0026,  0.3823],\n",
            "        [ 0.4062, -0.0937, -0.3229, -0.1352, -0.3348, -0.2138],\n",
            "        [-0.3228,  0.2437,  0.3875,  0.3671,  0.0856,  0.0218]],\n",
            "       requires_grad=True)\n",
            "torch.Size([6, 6])\n",
            "True\n",
            "Parameter containing:\n",
            "tensor([ 0.3794,  0.1183,  0.0246, -0.3188, -0.3473, -0.3756],\n",
            "       requires_grad=True)\n",
            "torch.Size([6])\n",
            "True\n",
            "Parameter containing:\n",
            "tensor([[ 0.1646, -0.3028,  0.1003,  0.0944,  0.0726,  0.1080]],\n",
            "       requires_grad=True)\n",
            "torch.Size([1, 6])\n",
            "True\n",
            "Parameter containing:\n",
            "tensor([-0.1440], requires_grad=True)\n",
            "torch.Size([1])\n",
            "True\n"
          ]
        }
      ]
    },
    {
      "cell_type": "code",
      "source": [
        "# CONVERT TO TORCH TENSOR AND EVALUATE MODEL AS A TEST\n",
        "x = x_train\n",
        "y = y_train\n",
        "x=torch.tensor(x).view(x.shape[0],x.shape[1])\n",
        "y=torch.tensor(y).view(x.shape[0],1)\n",
        "\n",
        "from sklearn.model_selection import train_test_split\n",
        "x_train, x_val, y_train, y_val = train_test_split(x, y, test_size=0.2, random_state=0)\n",
        "\n",
        "print(\"X-VALIDATION:\",x_val.shape,x_val.dtype)\n",
        "print(\"Y-VALIDATION:\",y_val.shape,y_val.dtype)\n",
        "print(\"X-TRAIN:\",x_train.shape,x_train.dtype)\n",
        "print(\"Y-TRAIN:\",y_train.shape,y_train.dtype)\n",
        "y_pred = model(x_train.float())\n",
        "print(\"PREDICTION:\",y_pred.shape,y_pred.dtype)"
      ],
      "metadata": {
        "colab": {
          "base_uri": "https://localhost:8080/"
        },
        "id": "PreTK0SDTKaq",
        "outputId": "82d8a586-b2bc-4070-95f8-719fb2d2e7a3"
      },
      "execution_count": 72,
      "outputs": [
        {
          "output_type": "stream",
          "name": "stderr",
          "text": [
            "/usr/local/lib/python3.7/dist-packages/ipykernel_launcher.py:4: UserWarning: To copy construct from a tensor, it is recommended to use sourceTensor.clone().detach() or sourceTensor.clone().detach().requires_grad_(True), rather than torch.tensor(sourceTensor).\n",
            "  after removing the cwd from sys.path.\n",
            "/usr/local/lib/python3.7/dist-packages/ipykernel_launcher.py:5: UserWarning: To copy construct from a tensor, it is recommended to use sourceTensor.clone().detach() or sourceTensor.clone().detach().requires_grad_(True), rather than torch.tensor(sourceTensor).\n",
            "  \"\"\"\n"
          ]
        },
        {
          "output_type": "stream",
          "name": "stdout",
          "text": [
            "X-VALIDATION: torch.Size([1437, 10000]) torch.float64\n",
            "Y-VALIDATION: torch.Size([1437, 1]) torch.int64\n",
            "X-TRAIN: torch.Size([5748, 10000]) torch.float64\n",
            "Y-TRAIN: torch.Size([5748, 1]) torch.int64\n",
            "PREDICTION: torch.Size([5748, 1]) torch.float32\n"
          ]
        }
      ]
    },
    {
      "cell_type": "code",
      "source": [
        "fig = plt.figure()\n",
        "ax = fig.add_subplot(111, projection='3d')\n",
        "ax.scatter(x_train[:,0], x_train[:,1], y_train, c = 'b', marker='o')\n",
        "ax.scatter(x_train[:,0], x_train[:,1], y_pred.detach().numpy(), c = 'r', marker='o')\n",
        "plt.show()"
      ],
      "metadata": {
        "id": "BBaejjYoTNnF"
      },
      "execution_count": null,
      "outputs": []
    },
    {
      "cell_type": "code",
      "source": [
        "epoch_array=[]\n",
        "val_loss_history=[]\n",
        "train_loss_history=[]\n",
        "\n",
        "#INITIALIZE LOSS FUNCTION AND OPTIMIZER\n",
        "loss_fn = torch.nn.MSELoss()\n",
        "optimizer = torch.optim.RMSprop(model.parameters(), lr=1e-2)\n"
      ],
      "metadata": {
        "id": "nxki9xdKTRmN"
      },
      "execution_count": 74,
      "outputs": []
    },
    {
      "cell_type": "code",
      "source": [
        "i_print=True\n",
        "\n",
        "def train(x_train,y_train, model, loss_fn, optimizer):\n",
        "    #TELL MODEL IT SHOULD BE TRAINING\n",
        "    model.train()\n",
        "\n",
        "    #BATCH IMPLEMENTATION \n",
        "    X, y = x_train.to(device).float(), y_train.to(device).float()\n",
        "\n",
        "    # Compute prediction error\n",
        "    pred = model(X)\n",
        "    loss = loss_fn(pred, y)\n",
        "\n",
        "    # Backpropagation\n",
        "    optimizer.zero_grad()\n",
        "    loss.backward()\n",
        "    optimizer.step()\n",
        "\n",
        "    # if t % 5 == 0:\n",
        "    loss = loss.item() \n",
        "    train_loss_history.append(loss)\n",
        "\n",
        "    if(i_print):\n",
        "        print(f\"loss: {loss:>7f}\")"
      ],
      "metadata": {
        "id": "hsZ_Wv0qTUTo"
      },
      "execution_count": 75,
      "outputs": []
    },
    {
      "cell_type": "code",
      "source": [
        "def validate(x_val,y_val, model, loss_fn):\n",
        "    #TELL MODEL IT SHOULD BE EVALUATING\n",
        "    model.eval()\n",
        "    X, y = x_val.to(device).float(), y_val.to(device).float()\n",
        "    pred = model(X)\n",
        "    val_loss = loss_fn(pred, y).item()\n",
        "    val_loss_history.append(val_loss)\n",
        "    if(i_print):\n",
        "        print(f\"Test Error: {val_loss:>8f}\")\n",
        "\n"
      ],
      "metadata": {
        "id": "WCWTsBUSTVU9"
      },
      "execution_count": 76,
      "outputs": []
    },
    {
      "cell_type": "code",
      "source": [
        "epochs = 600\n",
        "\n",
        "for t in range(epochs):\n",
        "    epoch_array.append(t)\n",
        "    if t%30==0:\n",
        "        i_print=True\n",
        "        print(f\"-------------------------------\\nEpoch {t}\")\n",
        "\n",
        "    else: \n",
        "        i_print=False\n",
        "\n",
        "    train(x_train,y_train, model, loss_fn, optimizer)\n",
        "    validate(x_val,y_val, model, loss_fn)\n",
        "print(\"Done!\")"
      ],
      "metadata": {
        "colab": {
          "base_uri": "https://localhost:8080/"
        },
        "id": "naXNWCh3TY2F",
        "outputId": "1ed6d375-18cd-4b2f-d972-688358779433"
      },
      "execution_count": 77,
      "outputs": [
        {
          "output_type": "stream",
          "name": "stdout",
          "text": [
            "-------------------------------\n",
            "Epoch 0\n",
            "loss: 162.466187\n",
            "Test Error: 147.319397\n",
            "-------------------------------\n",
            "Epoch 30\n",
            "loss: 93.088226\n",
            "Test Error: 87.150360\n",
            "-------------------------------\n",
            "Epoch 60\n",
            "loss: 66.220505\n",
            "Test Error: 64.993729\n",
            "-------------------------------\n",
            "Epoch 90\n",
            "loss: 51.054699\n",
            "Test Error: 53.948318\n",
            "-------------------------------\n",
            "Epoch 120\n",
            "loss: 40.976795\n",
            "Test Error: 48.173855\n",
            "-------------------------------\n",
            "Epoch 150\n",
            "loss: 33.636421\n",
            "Test Error: 44.485493\n",
            "-------------------------------\n",
            "Epoch 180\n",
            "loss: 28.304018\n",
            "Test Error: 42.673874\n",
            "-------------------------------\n",
            "Epoch 210\n",
            "loss: 24.397766\n",
            "Test Error: 41.722942\n",
            "-------------------------------\n",
            "Epoch 240\n",
            "loss: 21.146221\n",
            "Test Error: 41.551186\n",
            "-------------------------------\n",
            "Epoch 270\n",
            "loss: 18.577894\n",
            "Test Error: 40.659912\n",
            "-------------------------------\n",
            "Epoch 300\n",
            "loss: 16.681026\n",
            "Test Error: 39.719604\n",
            "-------------------------------\n",
            "Epoch 330\n",
            "loss: 14.902871\n",
            "Test Error: 41.326424\n",
            "-------------------------------\n",
            "Epoch 360\n",
            "loss: 13.376701\n",
            "Test Error: 40.764008\n",
            "-------------------------------\n",
            "Epoch 390\n",
            "loss: 11.717033\n",
            "Test Error: 41.004604\n",
            "-------------------------------\n",
            "Epoch 420\n",
            "loss: 10.414082\n",
            "Test Error: 41.156174\n",
            "-------------------------------\n",
            "Epoch 450\n",
            "loss: 9.308668\n",
            "Test Error: 41.485989\n",
            "-------------------------------\n",
            "Epoch 480\n",
            "loss: 8.354725\n",
            "Test Error: 41.395084\n",
            "-------------------------------\n",
            "Epoch 510\n",
            "loss: 7.439519\n",
            "Test Error: 41.004276\n",
            "-------------------------------\n",
            "Epoch 540\n",
            "loss: 6.774405\n",
            "Test Error: 41.049297\n",
            "-------------------------------\n",
            "Epoch 570\n",
            "loss: 6.168329\n",
            "Test Error: 41.306683\n",
            "Done!\n"
          ]
        }
      ]
    },
    {
      "cell_type": "code",
      "source": [
        "y_pred = model(x_train.float())\n",
        "\n",
        "# PLOT THE FIGURE\n",
        "# ax.scatter(x_val[:,0], x_val[:,1], y_val, c = 'r', marker='o')\n",
        "fig = plt.figure()\n",
        "ax = fig.add_subplot(111, projection='3d')\n",
        "ax.scatter(x_train[:,0], x_train[:,1], y_train, c = 'b', marker='o')\n",
        "ax.scatter(x_train[:,0], x_train[:,1], y_pred.detach().numpy(), c = 'r', marker='o')\n",
        "plt.show()"
      ],
      "metadata": {
        "id": "insIG9eKUrPf"
      },
      "execution_count": null,
      "outputs": []
    },
    {
      "cell_type": "code",
      "source": [
        "y_pred = model(x_train.float())\n",
        "\n",
        "fig, ax = plt.subplots()\n",
        "ax.plot(epoch_array, train_loss_history, '.', label='training loss')\n",
        "ax.plot(epoch_array, val_loss_history, '.', label='validation loss')\n",
        "ax.legend()\n",
        "plt.show()"
      ],
      "metadata": {
        "colab": {
          "base_uri": "https://localhost:8080/",
          "height": 265
        },
        "id": "05SGdtTqUuQM",
        "outputId": "d060a7a1-e706-4347-b49e-31b81ce501bb"
      },
      "execution_count": 79,
      "outputs": [
        {
          "output_type": "display_data",
          "data": {
            "text/plain": [
              "<Figure size 432x288 with 1 Axes>"
            ],
            "image/png": "[encoded data removed]"
          },
          "metadata": {
            "needs_background": "light"
          }
        }
      ]
    }
  ],
  "metadata": {
    "kernelspec": {
      "display_name": "Python 3 (ipykernel)",
      "language": "python",
      "name": "python3"
    },
    "language_info": {
      "codemirror_mode": {
        "name": "ipython",
        "version": 3
      },
      "file_extension": ".py",
      "mimetype": "text/x-python",
      "name": "python",
      "nbconvert_exporter": "python",
      "pygments_lexer": "ipython3",
      "version": "3.9.12"
    },
    "vscode": {
      "interpreter": {
        "hash": "3bbb781ca6673b7d7a2eaec0820775eebfaab6ec1fac7365fb415515f8c23aa5"
      }
    },
    "colab": {
      "provenance": []
    }
  },
  "nbformat": 4,
  "nbformat_minor": 0
}