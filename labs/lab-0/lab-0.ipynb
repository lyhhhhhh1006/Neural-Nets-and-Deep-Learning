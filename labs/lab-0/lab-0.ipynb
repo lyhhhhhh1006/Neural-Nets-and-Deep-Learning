{
 "cells": [
  {
   "cell_type": "markdown",
   "metadata": {},
   "source": [
    "# Lab-0: \n",
    "\n",
    "In this lab we set up a deep learning workstation on your local machine. Then we work through some fundamental math and python review content. \n",
    "\n",
    "**Instructions** \n",
    "* Read and work through all tutorial content and do all exercises below\n",
    "  \n",
    "**Submission:**\n",
    "* Upload a PDF (or HTML) of the completed form of this notebook to Canvas when you are done \n",
    "* The final uploaded version should NOT have any code-errors present \n",
    "* All outputs must be visible in the uploaded version, including code-cell outputs, images, graphs, etc\n",
    "* **DO NOT upload .ipynb, this will not be graded and will result in a zero**"
   ]
  },
  {
   "cell_type": "markdown",
   "metadata": {},
   "source": [
    "# Part-1: Install Pytorch and Tensorflow\n",
    "\n",
    "* Use the following commands to install Tensorflow, Keras, and Pytorch into a dedicated Conda environment named (ANLY590). \n",
    "* These command can be run from the command line (on mac/linux) or Anaconda Power-shell (windows). \n",
    "* Only paste the lines without \"#\"  (i.e. exclude comments).\n",
    "\n",
    "```\n",
    "#------------------\n",
    "#SET UP A DEDICATED CONDA ENVIROMENT \n",
    "#------------------\n",
    "conda deactivate \n",
    "conda create -n ANLY590 python=3.10\n",
    "conda activate ANLY590\n",
    "\n",
    "#------------------\n",
    "#INSTALL PYTORCH: https://pytorch.org/\n",
    "#------------------\n",
    "#MACOS USE:\n",
    "conda install pytorch torchvision torchaudio -c pytorch\n",
    "\n",
    "#LINUX USE:\n",
    "conda install pytorch torchvision torchaudio cpuonly -c pytorch\n",
    "\n",
    "#WINDOWS USE:\n",
    "conda install pytorch torchvision torchaudio cpuonly -c pytorch\n",
    "\n",
    "#------------------\n",
    "#INSTALL TENSORFLOW: \n",
    "#------------------\n",
    "\n",
    "#INTEL MAC AND WINDOWS USERS \n",
    "python -m pip install --upgrade pip\n",
    "python -m pip install tensorflow\n",
    "\n",
    "\n",
    "#MAC M1 USERS \n",
    "conda install -c apple tensorflow-deps -y\n",
    "python -m pip install --upgrade pip\n",
    "python -m pip install tensorflow-macos\n",
    "python -m pip install tensorflow-metal\n",
    "#for more details see the following video\n",
    "#https://www.youtube.com/watch?v=4nY5lDBXdOg&t=88s (Links to an external site.)\n",
    "\n",
    "\n",
    "#------------------\n",
    "# ADDITIONAL PACKAGES\n",
    "#------------------\n",
    "conda install scipy\n",
    "conda install -c conda-forge matplotlib\n",
    "conda install -c anaconda pandas\n",
    "conda install ipykernel --update-deps --force-reinstall\n",
    "\n",
    "```\n",
    "\n",
    "* MAC M1 USERS; YOU NEED XCODE, HOME-BREW, CONDA INSTALLED \n",
    "* 1) HOMEBREW: install homebrew if you don't have it (run following from command line)\n",
    "  * /bin/bash -c \"$(curl -fsSL https://raw.githubusercontent.com/Homebrew/install/HEAD/install.sh (Links to an external site.))\"\n",
    "* At the end of the installation it will provide you with two commands to add brew to your path, look for the commands after the following line and paste them into your browser   \"Run these two commands in your terminal to add Homebrew to your PATH:\"\n",
    "* XCODE: If xcodes is not installed then install it from app-store. If it is installed then check app-store to make sure Xcodes is up to date (run update if needed) \n",
    "* CONDA: If you don't have conda or mini-conda installed then follow the standard MacOS installation method found on the conda website. \n",
    "* Once Homebrew, Xcodes, conda are installed run the following \n",
    "\n",
    "* This installation process worked on my intel Mac. \n",
    "* That being said, the installation process can be buggy and sometimes the packages do not \"play-nice\" with each other\n"
   ]
  },
  {
   "cell_type": "markdown",
   "metadata": {},
   "source": [
    "# Part-2: Make sure installation was successful\n",
    "\n",
    "**Important**: Restart VS code and switch to the ANLY590 interpreter in the upper right corner of VS code "
   ]
  },
  {
   "cell_type": "code",
   "execution_count": 4,
   "metadata": {},
   "outputs": [
    {
     "name": "stdout",
     "output_type": "stream",
     "text": [
      "tensor([[0.2006, 0.1968, 0.4037],\n",
      "        [0.0550, 0.3355, 0.3324],\n",
      "        [0.4337, 0.6156, 0.6394],\n",
      "        [0.5922, 0.2866, 0.0557],\n",
      "        [0.8579, 0.9860, 0.4019]]) <class 'torch.Tensor'>\n"
     ]
    }
   ],
   "source": [
    "import torch\n",
    "x = torch.rand(5, 3)\n",
    "print(x, type(x))"
   ]
  },
  {
   "cell_type": "code",
   "execution_count": 5,
   "metadata": {},
   "outputs": [
    {
     "name": "stdout",
     "output_type": "stream",
     "text": [
      "Model: \"sequential_1\"\n",
      "_________________________________________________________________\n",
      " Layer (type)                Output Shape              Param #   \n",
      "=================================================================\n",
      " dense_1 (Dense)             (None, 1)                 2         \n",
      "                                                                 \n",
      "=================================================================\n",
      "Total params: 2\n",
      "Trainable params: 2\n",
      "Non-trainable params: 0\n",
      "_________________________________________________________________\n",
      "None\n"
     ]
    }
   ],
   "source": [
    "from tensorflow import keras\n",
    "from tensorflow.keras import layers\n",
    "from tensorflow.keras import initializers\n",
    "\n",
    "model = keras.Sequential([layers.Dense(1,activation='sigmoid',input_shape=(1,)),])\n",
    "\n",
    "print(model.summary()); "
   ]
  },
  {
   "cell_type": "markdown",
   "metadata": {},
   "source": [
    "# Part-2: Python Objects and Classes\n",
    "\n",
    "* **THIS SECTION IS VERY IMPORTANT: READ CAREFULLY**\n",
    "  <br />\n",
    "* Understanding the concept of \"classes and objects\" is completely fundamental to understanding python. \n",
    "  * This is because Python is an object oriented programming (OOP) language. \n",
    "  * Which means that EVERYTHING in python is an object (of some python class).\n",
    "  * We will not cover building python classes in detail during boot-camp (since it is an advanced topic). \n",
    "<br /><br />\n",
    "* However, we will introduce objects and classes here conceptually, because they are so fundamental. \n",
    "* So what are classes and objects? \n",
    "\n",
    "* **Classes are \"blue prints\" or \"templates\" for building customizable data-structures**\n",
    "  *  Think of them as \"customizable\" boxes that can;\n",
    "     *  (1) store **data** in what are known as \"**attributes** of the class\" \n",
    "         * These are comparable to how Dictionaries have keys and values\n",
    "     *  (2) preform actions on themselves using **functions** which are known as \"**methods** of the class\".\n",
    "  *  For example, if you wanted to build a custom data-structure to describe \"animals\" for a biology project.\n",
    "     *  Then you could create a python class called \"animal\" to store information about the different animals in the study. \n",
    "     *  This class would be a \"**template**\" for define objects (see below) of the class \"animal\", for example\n",
    "        * **Attributes** of class \"animal\"\n",
    "           *  name\n",
    "           *  species\n",
    "        * **Methods** of class animal \n",
    "           * update_name(new_name) --> name=new_name  \n",
    "           * i.e. change the animal's name with this method   \n",
    "  <br />\n",
    "     * **IN SUMMARY: CLASSES ARE \"EMPTY TEMPLATES\" FOR DEFINING OBJECTS** \n",
    "<br /><br />\n",
    "*  **Objects are a particular instance of a class (i.e. a **populated template** of that class)**\n",
    "   *  For example;\n",
    "      * object_1: the first instance of class \"animal\"\n",
    "         * object_1 attributes \n",
    "           * name=\"luna\"\n",
    "           * species=\"dog\"\n",
    "       * object_2: the second instance of class \"animal\"\n",
    "         * object_2 attributes \n",
    "           * name=\"jack\"\n",
    "           * species=\"cat\"\n",
    "      * You can think of the \"attributes\" as metadata associated with the various objects\n",
    "      * Also **both objects** would have access to the \"update_name\" method, which could be used at any time to change their name.\n",
    "  <br /><br />\n",
    "       * **IN SUMMARY: OBJECTS ARE \"POPULATED TEMPLATES\" (INSTANCES) OF A PARTICULAR CLASS** \n",
    "<br /><br />\n",
    "* **In python attributes and methods of an object are accessed using \".\" at the end**\n",
    "  * In the case of the previous example;\n",
    "    * print(object_1.name) --> \"luna\"\n",
    "    * print(object_1.species) --> \"dog\"\n",
    "    * object_1.update_name(\"stinky\")\n",
    "    * print(object_1.name) --> \"stinky\"\n",
    "\n"
   ]
  },
  {
   "cell_type": "code",
   "execution_count": 6,
   "metadata": {},
   "outputs": [
    {
     "name": "stdout",
     "output_type": "stream",
     "text": [
      "#-----------------------\n",
      "Luna 40 canine\n",
      "Spark 50 canine\n",
      "#-----------------------\n",
      "Luna 41 canine\n",
      "Luna 46 canine\n",
      "#-----------------------\n",
      "Spark 50 canine []\n",
      "Spark 50 canine ['collar', 'leash', 'bowl']\n",
      "Spark 50 canine ['collar', 'leash', 'bowl', 'dog food']\n",
      "Bo 15 canine [] small H= 1\n"
     ]
    }
   ],
   "source": [
    "#FOR MORE: https://docs.python.org/3/tutorial/classes.html\n",
    "\n",
    "#REMEMBER \n",
    "#AND OBJECT IS A SPECIFIC INSTANCE OF A CLASS\n",
    "#THE CLASS ITSELF IS A TEMPLATE FOR OBJECTS \n",
    "class Dog:\n",
    "\n",
    "    # class variable shared by all instances\n",
    "    kind = 'canine'        \n",
    "\n",
    "    #INITIALIZE\n",
    "    def __init__(self, attributions):\n",
    "        self.name = attributions[0]      # instance variable unique to each instance\n",
    "        self.weight = attributions[1]    \n",
    "        self.possesions=[]               #initial as empty, fill later\n",
    "\n",
    "    def increase_weight(self,dw=1):\n",
    "    \tself.weight+=dw\n",
    "\n",
    "\n",
    "#INITIALIZE TWO OBJECTS OF CLASS DOG\n",
    "L = Dog(['Luna' ,40])\n",
    "S = Dog(['Spark',50])\n",
    "\n",
    "\n",
    "#SEE INITIAL ATTRIBUTES\n",
    "print(\"#-----------------------\")\n",
    "print(L.name, L.weight, L.kind)\n",
    "print(S.name, S.weight, S.kind)\n",
    "\n",
    "#RUN THE increase_weight() METHOD\n",
    "print(\"#-----------------------\")\n",
    "L.increase_weight()\n",
    "print(L.name, L.weight, L.kind)\n",
    "L.increase_weight(5)\n",
    "print(L.name, L.weight, L.kind)\n",
    "\n",
    "\n",
    "#POPULATE POSSSESSION\n",
    "print(\"#-----------------------\")\n",
    "print(S.name, S.weight, S.kind,S.possesions)\n",
    "S.possesions=['collar','leash','bowl']\n",
    "print(S.name, S.weight, S.kind,S.possesions)\n",
    "S.possesions.append('dog food')\n",
    "print(S.name, S.weight, S.kind,S.possesions)\n",
    "\n",
    "\n",
    "#SUBCLASS\n",
    "    #NOTICE IT INHERITS ATTRIBUTIONS OF CLASS Dog\n",
    "class SmallDog(Dog):\n",
    "    size=\"small\"\n",
    "    \n",
    "    # provides new attributions \n",
    "    # but does not break __init__()\n",
    "    def update(self, H):\n",
    "        self.height=H\n",
    "\n",
    "B = SmallDog(['Bo' ,15])\n",
    "B.update(1)\n",
    "print(B.name, B.weight, B.kind, B.possesions,B.size,\"H=\",B.height)"
   ]
  },
  {
   "cell_type": "markdown",
   "metadata": {},
   "source": [
    "**ASSIGNMENT**:\n",
    "* Create a class called linear_algebra \n",
    "* use floats and python lists to store class objects as floats, vectors, and matrices\n",
    "* provide an attribute for the objects of the class call .type = scalar, vector, matrix (don't need to do higher rank tensors)\n",
    "* provide an attribute.shape which returns the shape of the vector \n",
    "* make a class method flatten() which acts on matrices and converts them into vector (lists)\n",
    "* make a class method \"dot\" that takes two objects, checks if they are vectors, and outputs the dot product (using a for-loop)\n",
    "* make a class method \"prod\" that takes two objects, checks if they are matrices, and outputs the matrix product (using a double for-loop)"
   ]
  },
  {
   "cell_type": "code",
   "execution_count": 9,
   "metadata": {},
   "outputs": [
    {
     "data": {
      "text/plain": [
       "[1, 2, 3, 4]"
      ]
     },
     "execution_count": 9,
     "metadata": {},
     "output_type": "execute_result"
    }
   ],
   "source": [
    "# INSERT YOUR CODE HERE\n",
    "import numpy as np\n",
    "class linear_algebra:\n",
    "    \n",
    "    def __init__(self, attributions):\n",
    "        self.type = attributions[0]\n",
    "        self.shape = attributions[1]\n",
    "        self.value = attributions[2]\n",
    "    \n",
    "    #@classmethod\n",
    "    def flatten(self):\n",
    "        list = []\n",
    "        for i in self.value:\n",
    "            list.extend(i)\n",
    "        return list\n",
    "    \n",
    "F = linear_algebra([\"float\", (1,1), 1.1])\n",
    "V = linear_algebra([\"vector\", (1,3), 1,2,3])\n",
    "M = linear_algebra(['matrices',(2,2), ([1,2],[3,4])])\n",
    "\n",
    "M.flatten()\n",
    "        "
   ]
  }
 ],
 "metadata": {
  "kernelspec": {
   "display_name": "Python 3",
   "language": "python",
   "name": "python3"
  },
  "language_info": {
   "codemirror_mode": {
    "name": "ipython",
    "version": 3
   },
   "file_extension": ".py",
   "mimetype": "text/x-python",
   "name": "python",
   "nbconvert_exporter": "python",
   "pygments_lexer": "ipython3",
   "version": "3.8.8"
  },
  "vscode": {
   "interpreter": {
    "hash": "515f5c6cd1348fb965e5c6b4ded4ef871d1b3a97751352e2d745eb18d53490ce"
   }
  }
 },
 "nbformat": 4,
 "nbformat_minor": 1
}
