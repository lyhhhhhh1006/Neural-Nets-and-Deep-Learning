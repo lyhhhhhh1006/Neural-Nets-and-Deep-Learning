{
 "cells": [
  {
   "cell_type": "code",
   "execution_count": 1,
   "id": "e1ce182a",
   "metadata": {},
   "outputs": [],
   "source": [
    "import streamlit as st"
   ]
  },
  {
   "cell_type": "code",
   "execution_count": 2,
   "id": "4ab2a49d",
   "metadata": {},
   "outputs": [
    {
     "name": "stderr",
     "output_type": "stream",
     "text": [
      "2022-12-07 16:03:58.011 \n",
      "  \u001b[33m\u001b[1mWarning:\u001b[0m to view this Streamlit app on a browser, run it with the following\n",
      "  command:\n",
      "\n",
      "    streamlit run /Users/yihuiliu_/opt/anaconda3/envs/anly590/lib/python3.9/site-packages/ipykernel_launcher.py [ARGUMENTS]\n"
     ]
    }
   ],
   "source": [
    "st.write(\"\"\"\n",
    "# Mini Chatbot \n",
    " \n",
    "** Ask me anything! ** \"\"\"\n",
    ")"
   ]
  },
  {
   "cell_type": "code",
   "execution_count": 3,
   "id": "fd20f4be",
   "metadata": {},
   "outputs": [],
   "source": [
    "## READ KEYS \n",
    "import json \n",
    "import openai\n",
    "\n",
    "f = open(\"open-ai.json\") \n",
    "key = json.load(f)[\"key\"];  "
   ]
  },
  {
   "cell_type": "code",
   "execution_count": 4,
   "id": "cdc9e9d9",
   "metadata": {},
   "outputs": [
    {
     "name": "stderr",
     "output_type": "stream",
     "text": [
      "2022-12-07 16:04:45.981 message='Request to OpenAI API' method=post path=https://api.openai.com/v1/engines/text-davinci-002/completions\n",
      "2022-12-07 16:05:00.241 message='OpenAI API response' path=https://api.openai.com/v1/engines/text-davinci-002/completions processing_ms=2699 request_id=779f0860afb45e6dd74fdaf37be8c214 response_code=200\n"
     ]
    },
    {
     "data": {
      "text/plain": [
       "'First things first, I want to say Happy Thanksgiving to all my American readers out there! I hope you all have a day filled with family, friends, good food, and lots of love. I’m also excited to share my first ever holiday gift guide. The holidays are a time for giving and receiving,'"
      ]
     },
     "execution_count": 4,
     "metadata": {},
     "output_type": "execute_result"
    }
   ],
   "source": [
    "def GPT_Completion(texts):\n",
    "    ## Call the API key under your account (in a secure way)\n",
    "    openai.api_key = key\n",
    "    response = openai.Completion.create(\n",
    "    engine=\"text-davinci-002\",\n",
    "    prompt =  texts,\n",
    "    temperature = 0.6,\n",
    "    top_p = 1,\n",
    "    max_tokens = 64,\n",
    "    frequency_penalty = 0,\n",
    "    presence_penalty = 0\n",
    "    )\n",
    "    return st.text_area(\"Chatbot:\", value=response.choices[0].text.lstrip(),height=200, max_chars=None, key=None)\n",
    "\n",
    "## Provide 'training' to GPT-3 on how to be sarcastic\n",
    "input = st.text_input('User:')\n",
    "\n",
    "GPT_Completion(input)"
   ]
  },
  {
   "cell_type": "code",
   "execution_count": null,
   "id": "5a5a1057",
   "metadata": {},
   "outputs": [],
   "source": []
  }
 ],
 "metadata": {
  "kernelspec": {
   "display_name": "Python 3 (ipykernel)",
   "language": "python",
   "name": "python3"
  },
  "language_info": {
   "codemirror_mode": {
    "name": "ipython",
    "version": 3
   },
   "file_extension": ".py",
   "mimetype": "text/x-python",
   "name": "python",
   "nbconvert_exporter": "python",
   "pygments_lexer": "ipython3",
   "version": "3.9.12"
  }
 },
 "nbformat": 4,
 "nbformat_minor": 5
}
