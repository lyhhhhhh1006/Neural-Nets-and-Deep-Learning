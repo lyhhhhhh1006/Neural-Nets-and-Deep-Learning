{
 "cells": [
  {
   "cell_type": "markdown",
   "metadata": {},
   "source": [
    "## Lab-2.2: Binary and multi-class classification via neural-networks\n",
    "\n",
    "* In this lab we perform binary classification on the IMDB dataset and multi-class classification on the Newswire data-set. \n",
    "\n",
    "**Instructions** \n",
    "* Code both binary and multi-class using a deep feed forward fully connected Neural network\n",
    "  * Binary classification: IMDB data-set \n",
    "  * Multi-class classification: Newswire data-set \n",
    "  * **Do each example with Keras AND then Pytorch**\n",
    "  * Use a dense feed forward ANN model\n",
    "  * Normalize the data as needed\n",
    "  * Visualize the results at the end where possible\n",
    "  * Partition data into training, validation, and test\n",
    "  * Monitor training and validation throughout training by plotting\n",
    "  * Print training, validation, and test errors at the very end\n",
    "  * Do basic hyper parameter tuning to try to achieve an optimal fit model\n",
    "    * i.e. best training/validation loss without over-fitting\n",
    "    * Explore L1 and L2 regularization\n",
    "    * Explore different optimizers \n",
    "    * Use the loss functions specified in the textbook\n",
    "    * Explore different options for activation functions, network size/depth, etc\n",
    "* **Document what is going on in the code, as needed, with narrative markdown text between cells.**\n",
    "* *Submit the version with hyper parameters that provide the optimal fit*\n",
    "  * i.e. you don't need to show the outputs of your hyper-parameter tuning process\n",
    "  \n",
    "**Important: The Keras portion of this assignment is included as an example in the text book**\n",
    "  *  Binary classification: See the textbook (Chollet chapter-3, page 68) for reference \n",
    "  *  Multi-class classification: See the textbook (Chollet chapter-3, page 78) for reference\n",
    "  \n",
    "**Submission:**\n",
    "* You need to upload ONE document to Canvas when you are done\n",
    "  * (1) A PDF (or HTML) of the completed form of this notebook \n",
    "* The final uploaded version should NOT have any code-errors present \n",
    "* All outputs must be visible in the uploaded version, including code-cell outputs, images, graphs, etc"
   ]
  },
  {
   "cell_type": "markdown",
   "metadata": {},
   "source": [
    "## Binary Classification"
   ]
  },
  {
   "cell_type": "markdown",
   "metadata": {},
   "source": [
    "### Data preparation \n",
    "\n",
    "* Insert cells below"
   ]
  },
  {
   "cell_type": "code",
   "execution_count": 1,
   "metadata": {},
   "outputs": [
    {
     "name": "stderr",
     "output_type": "stream",
     "text": [
      "/Users/yihuiliu_/opt/anaconda3/envs/anly580/lib/python3.9/site-packages/scipy/__init__.py:146: UserWarning: A NumPy version >=1.16.5 and <1.23.0 is required for this version of SciPy (detected version 1.23.3\n",
      "  warnings.warn(f\"A NumPy version >={np_minversion} and <{np_maxversion}\"\n"
     ]
    }
   ],
   "source": [
    "from keras.datasets import imdb\n",
    "(train_data, train_labels), (test_data, test_labels) = imdb.load_data(num_words=10000)"
   ]
  },
  {
   "cell_type": "markdown",
   "metadata": {},
   "source": [
    "#normalizing the data\n",
    "import numpy as np\n",
    "for i in range(len(train_data)):\n",
    "    mean = sum(train_data[i]) // len(train_data[i])\n",
    "    \n",
    "    std =[]\n",
    "    for k in range(len(train_data[i])):\n",
    "        train_data[i][k] -= meanlist[i]\n",
    "        stdvalue = np.sqrt((np.sum(train_data[i][k] - meanlist[i]) **2)//len(train_data[i]))\n",
    "        std.append(stdvalue)\n",
    "        train_data[i][k] /= std[k]\n",
    "        \n",
    "        #test_data -= mean\n",
    "        #test_data /= std"
   ]
  },
  {
   "cell_type": "code",
   "execution_count": 2,
   "metadata": {},
   "outputs": [
    {
     "data": {
      "text/plain": [
       "9999"
      ]
     },
     "execution_count": 2,
     "metadata": {},
     "output_type": "execute_result"
    }
   ],
   "source": [
    "max([max(sequence) for sequence in train_data])"
   ]
  },
  {
   "cell_type": "code",
   "execution_count": 3,
   "metadata": {},
   "outputs": [],
   "source": [
    "word_index = imdb.get_word_index()\n",
    "reverse_word_index = dict([(value, key) for (key, value) in word_index.items()])\n",
    "decoded_review = ' '.join([reverse_word_index.get(i - 3, '?') for i in train_data[0]])"
   ]
  },
  {
   "cell_type": "code",
   "execution_count": 4,
   "metadata": {},
   "outputs": [],
   "source": [
    "import numpy as np\n",
    "def vectorize_sequences(sequences, dimension=10000):\n",
    "    results = np.zeros((len(sequences), dimension))\n",
    "    for i, sequence in enumerate(sequences):\n",
    "        results[i, sequence] = 1.\n",
    "    return results\n",
    "x_train = vectorize_sequences(train_data)\n",
    "x_test = vectorize_sequences(test_data)"
   ]
  },
  {
   "cell_type": "code",
   "execution_count": 5,
   "metadata": {},
   "outputs": [
    {
     "data": {
      "text/plain": [
       "array([0., 1., 1., ..., 0., 0., 0.])"
      ]
     },
     "execution_count": 5,
     "metadata": {},
     "output_type": "execute_result"
    }
   ],
   "source": [
    "x_train[0]"
   ]
  },
  {
   "cell_type": "code",
   "execution_count": 6,
   "metadata": {},
   "outputs": [],
   "source": [
    "y_train = np.asarray(train_labels).astype('float32')\n",
    "y_test = np.asarray(test_labels).astype('float32')"
   ]
  },
  {
   "cell_type": "markdown",
   "metadata": {},
   "source": [
    "### Keras training\n",
    "\n",
    "* Insert cells below"
   ]
  },
  {
   "cell_type": "code",
   "execution_count": 7,
   "metadata": {},
   "outputs": [
    {
     "name": "stderr",
     "output_type": "stream",
     "text": [
      "2022-09-29 13:17:02.945920: I tensorflow/core/platform/cpu_feature_guard.cc:193] This TensorFlow binary is optimized with oneAPI Deep Neural Network Library (oneDNN) to use the following CPU instructions in performance-critical operations:  SSE4.1 SSE4.2\n",
      "To enable them in other operations, rebuild TensorFlow with the appropriate compiler flags.\n"
     ]
    }
   ],
   "source": [
    "#model definition\n",
    "from keras import models\n",
    "from keras import layers\n",
    "from keras import regularizers\n",
    "model = models.Sequential()\n",
    "model.add(layers.Dense(16, #kernel_regularizer = regularizers.l1_l2(l1 = 1e-5, l2 = 1e-4),\n",
    "                       activation='relu', input_shape=(10000,)))\n",
    "model.add(layers.Dense(16, activation='relu'))\n",
    "model.add(layers.Dense(1, activation='sigmoid'))"
   ]
  },
  {
   "cell_type": "code",
   "execution_count": 8,
   "metadata": {},
   "outputs": [],
   "source": [
    "#compiling the model\n",
    "model.compile(optimizer='rmsprop',loss='binary_crossentropy',metrics=['accuracy'])"
   ]
  },
  {
   "cell_type": "code",
   "execution_count": 9,
   "metadata": {},
   "outputs": [],
   "source": [
    "#configuring the optimizer\n",
    "from keras import optimizers\n",
    "model.compile(optimizer=optimizers.RMSprop(learning_rate=0.001),loss='binary_crossentropy',metrics=['accuracy'])"
   ]
  },
  {
   "cell_type": "code",
   "execution_count": 10,
   "metadata": {},
   "outputs": [],
   "source": [
    "# Using custom losses and metrics\n",
    "from keras import losses\n",
    "from keras import metrics\n",
    "model.compile(optimizer=optimizers.RMSprop(learning_rate=0.001),\n",
    "              loss=losses.binary_crossentropy,metrics=[metrics.binary_accuracy])"
   ]
  },
  {
   "cell_type": "code",
   "execution_count": 11,
   "metadata": {},
   "outputs": [],
   "source": [
    "#set aside a validation set\n",
    "x_val = x_train[:10000]\n",
    "partial_x_train = x_train[10000:]\n",
    "y_val = y_train[:10000]\n",
    "partial_y_train = y_train[10000:]"
   ]
  },
  {
   "cell_type": "code",
   "execution_count": 12,
   "metadata": {},
   "outputs": [],
   "source": [
    "model.compile(optimizer='rmsprop',loss='binary_crossentropy',metrics=['acc'])"
   ]
  },
  {
   "cell_type": "code",
   "execution_count": 13,
   "metadata": {},
   "outputs": [
    {
     "name": "stdout",
     "output_type": "stream",
     "text": [
      "Epoch 1/20\n",
      "30/30 [==============================] - 3s 68ms/step - loss: 0.5452 - acc: 0.7656 - val_loss: 0.4137 - val_acc: 0.8604\n",
      "Epoch 2/20\n",
      "30/30 [==============================] - 1s 25ms/step - loss: 0.3261 - acc: 0.8995 - val_loss: 0.3118 - val_acc: 0.8867\n",
      "Epoch 3/20\n",
      "30/30 [==============================] - 1s 20ms/step - loss: 0.2311 - acc: 0.9267 - val_loss: 0.3057 - val_acc: 0.8774\n",
      "Epoch 4/20\n",
      "30/30 [==============================] - 1s 23ms/step - loss: 0.1795 - acc: 0.9433 - val_loss: 0.2874 - val_acc: 0.8841\n",
      "Epoch 5/20\n",
      "30/30 [==============================] - 1s 22ms/step - loss: 0.1490 - acc: 0.9519 - val_loss: 0.2789 - val_acc: 0.8899\n",
      "Epoch 6/20\n",
      "30/30 [==============================] - 1s 22ms/step - loss: 0.1197 - acc: 0.9639 - val_loss: 0.3060 - val_acc: 0.8829\n",
      "Epoch 7/20\n",
      "30/30 [==============================] - 1s 22ms/step - loss: 0.0987 - acc: 0.9716 - val_loss: 0.3109 - val_acc: 0.8821\n",
      "Epoch 8/20\n",
      "30/30 [==============================] - 1s 23ms/step - loss: 0.0845 - acc: 0.9759 - val_loss: 0.3263 - val_acc: 0.8840\n",
      "Epoch 9/20\n",
      "30/30 [==============================] - 1s 26ms/step - loss: 0.0685 - acc: 0.9808 - val_loss: 0.3648 - val_acc: 0.8753\n",
      "Epoch 10/20\n",
      "30/30 [==============================] - 1s 31ms/step - loss: 0.0561 - acc: 0.9864 - val_loss: 0.3777 - val_acc: 0.8767\n",
      "Epoch 11/20\n",
      "30/30 [==============================] - 1s 36ms/step - loss: 0.0457 - acc: 0.9891 - val_loss: 0.4102 - val_acc: 0.8752\n",
      "Epoch 12/20\n",
      "30/30 [==============================] - 1s 29ms/step - loss: 0.0374 - acc: 0.9913 - val_loss: 0.4313 - val_acc: 0.8740\n",
      "Epoch 13/20\n",
      "30/30 [==============================] - 1s 23ms/step - loss: 0.0286 - acc: 0.9940 - val_loss: 0.4775 - val_acc: 0.8723\n",
      "Epoch 14/20\n",
      "30/30 [==============================] - 1s 25ms/step - loss: 0.0225 - acc: 0.9956 - val_loss: 0.5138 - val_acc: 0.8691\n",
      "Epoch 15/20\n",
      "30/30 [==============================] - 1s 23ms/step - loss: 0.0187 - acc: 0.9964 - val_loss: 0.5540 - val_acc: 0.8693\n",
      "Epoch 16/20\n",
      "30/30 [==============================] - 1s 23ms/step - loss: 0.0153 - acc: 0.9973 - val_loss: 0.5843 - val_acc: 0.8686\n",
      "Epoch 17/20\n",
      "30/30 [==============================] - 1s 21ms/step - loss: 0.0081 - acc: 0.9997 - val_loss: 0.6315 - val_acc: 0.8642\n",
      "Epoch 18/20\n",
      "30/30 [==============================] - 1s 24ms/step - loss: 0.0128 - acc: 0.9972 - val_loss: 0.6555 - val_acc: 0.8663\n",
      "Epoch 19/20\n",
      "30/30 [==============================] - 1s 24ms/step - loss: 0.0046 - acc: 0.9998 - val_loss: 0.6831 - val_acc: 0.8664\n",
      "Epoch 20/20\n",
      "30/30 [==============================] - 1s 19ms/step - loss: 0.0086 - acc: 0.9981 - val_loss: 0.7177 - val_acc: 0.8662\n"
     ]
    }
   ],
   "source": [
    "history = model.fit(partial_x_train,partial_y_train,epochs=20,batch_size=512,validation_data=(x_val, y_val))"
   ]
  },
  {
   "cell_type": "code",
   "execution_count": 14,
   "metadata": {},
   "outputs": [
    {
     "data": {
      "text/plain": [
       "dict_keys(['loss', 'acc', 'val_loss', 'val_acc'])"
      ]
     },
     "execution_count": 14,
     "metadata": {},
     "output_type": "execute_result"
    }
   ],
   "source": [
    "history_dict = history.history\n",
    "history_dict.keys()"
   ]
  },
  {
   "cell_type": "code",
   "execution_count": 15,
   "metadata": {},
   "outputs": [
    {
     "data": {
      "image/png": "[encoded data removed]",
      "text/plain": [
       "<Figure size 640x480 with 1 Axes>"
      ]
     },
     "metadata": {},
     "output_type": "display_data"
    }
   ],
   "source": [
    "import matplotlib.pyplot as plt\n",
    "history_dict = history.history\n",
    "loss_values = history_dict['loss']\n",
    "val_loss_values = history_dict['val_loss']\n",
    "acc = history_dict['acc']\n",
    "epochs = range(1, len(acc) + 1)\n",
    "plt.plot(epochs, loss_values, 'bo', label='Training loss')\n",
    "plt.plot(epochs, val_loss_values, 'b', label='Validation loss')\n",
    "plt.title('Training and validation loss')\n",
    "plt.xlabel('Epochs')\n",
    "plt.ylabel('Loss')\n",
    "plt.legend()\n",
    "plt.show()"
   ]
  },
  {
   "cell_type": "code",
   "execution_count": 16,
   "metadata": {},
   "outputs": [
    {
     "data": {
      "image/png": "[encoded data removed]",
      "text/plain": [
       "<Figure size 640x480 with 1 Axes>"
      ]
     },
     "metadata": {},
     "output_type": "display_data"
    }
   ],
   "source": [
    "plt.clf()\n",
    "acc_values = history_dict['acc']\n",
    "val_acc_values = history_dict['val_acc']\n",
    "plt.plot(epochs, acc_values, 'bo', label='Training acc')\n",
    "plt.plot(epochs, val_acc_values, 'b', label='Validation acc')\n",
    "plt.title('Training and validation accuracy')\n",
    "plt.xlabel('Epochs')\n",
    "plt.ylabel('Loss')\n",
    "plt.legend()\n",
    "plt.show()"
   ]
  },
  {
   "cell_type": "code",
   "execution_count": 17,
   "metadata": {},
   "outputs": [
    {
     "name": "stdout",
     "output_type": "stream",
     "text": [
      "Epoch 1/4\n",
      "49/49 [==============================] - 1s 11ms/step - loss: 0.4464 - accuracy: 0.8202\n",
      "Epoch 2/4\n",
      "49/49 [==============================] - 0s 8ms/step - loss: 0.2544 - accuracy: 0.9100\n",
      "Epoch 3/4\n",
      "49/49 [==============================] - 0s 7ms/step - loss: 0.1970 - accuracy: 0.9288\n",
      "Epoch 4/4\n",
      "49/49 [==============================] - 0s 8ms/step - loss: 0.1657 - accuracy: 0.9396\n",
      "782/782 [==============================] - 1s 1ms/step - loss: 0.2980 - accuracy: 0.8822\n"
     ]
    }
   ],
   "source": [
    "model = models.Sequential()\n",
    "model.add(layers.Dense(16, activation='relu', input_shape=(10000,)))\n",
    "model.add(layers.Dense(16, activation='relu'))\n",
    "model.add(layers.Dense(1, activation='sigmoid'))\n",
    "model.compile(optimizer='rmsprop',\n",
    "loss='binary_crossentropy',\n",
    "metrics=['accuracy'])\n",
    "model.fit(x_train, y_train, epochs=4, batch_size=512)\n",
    "results = model.evaluate(x_test, y_test)"
   ]
  },
  {
   "cell_type": "code",
   "execution_count": 18,
   "metadata": {},
   "outputs": [
    {
     "data": {
      "text/plain": [
       "[0.29803264141082764, 0.8821600079536438]"
      ]
     },
     "execution_count": 18,
     "metadata": {},
     "output_type": "execute_result"
    }
   ],
   "source": [
    "results"
   ]
  },
  {
   "cell_type": "code",
   "execution_count": 19,
   "metadata": {},
   "outputs": [
    {
     "name": "stdout",
     "output_type": "stream",
     "text": [
      "782/782 [==============================] - 1s 1ms/step\n"
     ]
    },
    {
     "data": {
      "text/plain": [
       "array([[0.19967103],\n",
       "       [0.9996769 ],\n",
       "       [0.8920338 ],\n",
       "       ...,\n",
       "       [0.06519258],\n",
       "       [0.05165203],\n",
       "       [0.6706481 ]], dtype=float32)"
      ]
     },
     "execution_count": 19,
     "metadata": {},
     "output_type": "execute_result"
    }
   ],
   "source": [
    "model.predict(x_test)"
   ]
  },
  {
   "cell_type": "markdown",
   "metadata": {},
   "source": [
    "### Pytorch training\n",
    "\n",
    "* Insert cells below"
   ]
  },
  {
   "cell_type": "code",
   "execution_count": 3,
   "metadata": {},
   "outputs": [
    {
     "ename": "ModuleNotFoundError",
     "evalue": "No module named 'torch'",
     "output_type": "error",
     "traceback": [
      "\u001b[0;31m---------------------------------------------------------------------------\u001b[0m",
      "\u001b[0;31mModuleNotFoundError\u001b[0m                       Traceback (most recent call last)",
      "Input \u001b[0;32mIn [3]\u001b[0m, in \u001b[0;36m<cell line: 1>\u001b[0;34m()\u001b[0m\n\u001b[0;32m----> 1\u001b[0m \u001b[38;5;28;01mimport\u001b[39;00m \u001b[38;5;21;01mtorch\u001b[39;00m\n\u001b[1;32m      2\u001b[0m \u001b[38;5;28;01mimport\u001b[39;00m \u001b[38;5;21;01mtorchvision\u001b[39;00m\n",
      "\u001b[0;31mModuleNotFoundError\u001b[0m: No module named 'torch'"
     ]
    }
   ],
   "source": [
    "import torch\n",
    "import torchvision"
   ]
  },
  {
   "cell_type": "markdown",
   "metadata": {},
   "source": [
    "## Multi-class Classification"
   ]
  },
  {
   "cell_type": "markdown",
   "metadata": {},
   "source": [
    "### Data preparation \n",
    "\n",
    "* Insert cells below"
   ]
  },
  {
   "cell_type": "code",
   "execution_count": 4,
   "metadata": {},
   "outputs": [
    {
     "name": "stderr",
     "output_type": "stream",
     "text": [
      "/Users/yihuiliu_/opt/anaconda3/envs/anly580/lib/python3.9/site-packages/scipy/__init__.py:146: UserWarning: A NumPy version >=1.16.5 and <1.23.0 is required for this version of SciPy (detected version 1.23.3\n",
      "  warnings.warn(f\"A NumPy version >={np_minversion} and <{np_maxversion}\"\n"
     ]
    }
   ],
   "source": [
    "from keras.datasets import reuters\n",
    "(train_data, train_labels), (test_data, test_labels) = reuters.load_data(num_words=10000)"
   ]
  },
  {
   "cell_type": "code",
   "execution_count": 5,
   "metadata": {},
   "outputs": [
    {
     "data": {
      "text/plain": [
       "8982"
      ]
     },
     "execution_count": 5,
     "metadata": {},
     "output_type": "execute_result"
    }
   ],
   "source": [
    "len(train_data)"
   ]
  },
  {
   "cell_type": "code",
   "execution_count": 6,
   "metadata": {},
   "outputs": [
    {
     "data": {
      "text/plain": [
       "2246"
      ]
     },
     "execution_count": 6,
     "metadata": {},
     "output_type": "execute_result"
    }
   ],
   "source": [
    "len(test_data)"
   ]
  },
  {
   "cell_type": "code",
   "execution_count": 7,
   "metadata": {},
   "outputs": [
    {
     "data": {
      "text/plain": [
       "[1,\n",
       " 245,\n",
       " 273,\n",
       " 207,\n",
       " 156,\n",
       " 53,\n",
       " 74,\n",
       " 160,\n",
       " 26,\n",
       " 14,\n",
       " 46,\n",
       " 296,\n",
       " 26,\n",
       " 39,\n",
       " 74,\n",
       " 2979,\n",
       " 3554,\n",
       " 14,\n",
       " 46,\n",
       " 4689,\n",
       " 4329,\n",
       " 86,\n",
       " 61,\n",
       " 3499,\n",
       " 4795,\n",
       " 14,\n",
       " 61,\n",
       " 451,\n",
       " 4329,\n",
       " 17,\n",
       " 12]"
      ]
     },
     "execution_count": 7,
     "metadata": {},
     "output_type": "execute_result"
    }
   ],
   "source": [
    "train_data[10]"
   ]
  },
  {
   "cell_type": "code",
   "execution_count": 8,
   "metadata": {},
   "outputs": [],
   "source": [
    "word_index = reuters.get_word_index()\n",
    "reverse_word_index = dict([(value, key) for (key, value) in word_index.items()])\n",
    "decoded_newswire = ' '.join([reverse_word_index.get(i - 3, '?') for i in train_data[0]])"
   ]
  },
  {
   "cell_type": "code",
   "execution_count": 9,
   "metadata": {},
   "outputs": [
    {
     "data": {
      "text/plain": [
       "3"
      ]
     },
     "execution_count": 9,
     "metadata": {},
     "output_type": "execute_result"
    }
   ],
   "source": [
    "train_labels[10]"
   ]
  },
  {
   "cell_type": "code",
   "execution_count": 10,
   "metadata": {},
   "outputs": [],
   "source": [
    "import numpy as np\n",
    "def vectorize_sequences(sequences, dimension=10000):\n",
    "    results = np.zeros((len(sequences), dimension))\n",
    "    for i, sequence in enumerate(sequences):\n",
    "        results[i, sequence] = 1.\n",
    "    return results\n",
    "x_train = vectorize_sequences(train_data)\n",
    "x_test = vectorize_sequences(test_data)"
   ]
  },
  {
   "cell_type": "code",
   "execution_count": 11,
   "metadata": {},
   "outputs": [],
   "source": [
    "def to_one_hot(labels, dimension=46):\n",
    "    results = np.zeros((len(labels), dimension))\n",
    "    for i, label in enumerate(labels):\n",
    "        results[i, label] = 1.\n",
    "    return results\n",
    "one_hot_train_labels = to_one_hot(train_labels)\n",
    "one_hot_test_labels = to_one_hot(test_labels)"
   ]
  },
  {
   "cell_type": "code",
   "execution_count": 12,
   "metadata": {},
   "outputs": [],
   "source": [
    "from keras.utils.np_utils import to_categorical\n",
    "one_hot_train_labels = to_categorical(train_labels)\n",
    "one_hot_test_labels = to_categorical(test_labels)"
   ]
  },
  {
   "cell_type": "markdown",
   "metadata": {},
   "source": [
    "### Keras training\n",
    "\n",
    "* Insert cells below"
   ]
  },
  {
   "cell_type": "code",
   "execution_count": 18,
   "metadata": {},
   "outputs": [],
   "source": [
    "#model definition\n",
    "from keras import models\n",
    "from keras import layers\n",
    "from keras import regularizers\n",
    "model = models.Sequential()\n",
    "model.add(layers.Dense(64, #kernel_regularizer = regularizers.l1_l2(l1 = 1e-5, l2 = 1e-4),\n",
    "                       activation='relu', input_shape=(10000,)))\n",
    "model.add(layers.Dense(64, activation='relu'))\n",
    "model.add(layers.Dense(46, activation='softmax'))"
   ]
  },
  {
   "cell_type": "code",
   "execution_count": 19,
   "metadata": {},
   "outputs": [],
   "source": [
    "#compiling the model\n",
    "model.compile(optimizer='rmsprop',loss='categorical_crossentropy',metrics=['accuracy'])"
   ]
  },
  {
   "cell_type": "code",
   "execution_count": 20,
   "metadata": {},
   "outputs": [],
   "source": [
    "#setting aside the validation set\n",
    "x_val = x_train[:1000]\n",
    "partial_x_train = x_train[1000:]\n",
    "y_val = one_hot_train_labels[:1000]\n",
    "partial_y_train = one_hot_train_labels[1000:]"
   ]
  },
  {
   "cell_type": "code",
   "execution_count": 21,
   "metadata": {},
   "outputs": [
    {
     "name": "stdout",
     "output_type": "stream",
     "text": [
      "Epoch 1/20\n",
      "16/16 [==============================] - 1s 35ms/step - loss: 2.8071 - accuracy: 0.4826 - val_loss: 1.8432 - val_accuracy: 0.6260\n",
      "Epoch 2/20\n",
      "16/16 [==============================] - 0s 19ms/step - loss: 1.5096 - accuracy: 0.7045 - val_loss: 1.3197 - val_accuracy: 0.7240\n",
      "Epoch 3/20\n",
      "16/16 [==============================] - 0s 20ms/step - loss: 1.0753 - accuracy: 0.7772 - val_loss: 1.1193 - val_accuracy: 0.7650\n",
      "Epoch 4/20\n",
      "16/16 [==============================] - 0s 19ms/step - loss: 0.8319 - accuracy: 0.8231 - val_loss: 1.0145 - val_accuracy: 0.7910\n",
      "Epoch 5/20\n",
      "16/16 [==============================] - 0s 18ms/step - loss: 0.6577 - accuracy: 0.8664 - val_loss: 0.9484 - val_accuracy: 0.7990\n",
      "Epoch 6/20\n",
      "16/16 [==============================] - 0s 16ms/step - loss: 0.5279 - accuracy: 0.8948 - val_loss: 0.9151 - val_accuracy: 0.8050\n",
      "Epoch 7/20\n",
      "16/16 [==============================] - 0s 16ms/step - loss: 0.4241 - accuracy: 0.9148 - val_loss: 0.8859 - val_accuracy: 0.8150\n",
      "Epoch 8/20\n",
      "16/16 [==============================] - 0s 18ms/step - loss: 0.3451 - accuracy: 0.9285 - val_loss: 0.9082 - val_accuracy: 0.8090\n",
      "Epoch 9/20\n",
      "16/16 [==============================] - 0s 16ms/step - loss: 0.2858 - accuracy: 0.9394 - val_loss: 0.8729 - val_accuracy: 0.8170\n",
      "Epoch 10/20\n",
      "16/16 [==============================] - 0s 19ms/step - loss: 0.2436 - accuracy: 0.9460 - val_loss: 0.8719 - val_accuracy: 0.8210\n",
      "Epoch 11/20\n",
      "16/16 [==============================] - 0s 17ms/step - loss: 0.2061 - accuracy: 0.9495 - val_loss: 0.9170 - val_accuracy: 0.8230\n",
      "Epoch 12/20\n",
      "16/16 [==============================] - 0s 16ms/step - loss: 0.1853 - accuracy: 0.9499 - val_loss: 0.9544 - val_accuracy: 0.8160\n",
      "Epoch 13/20\n",
      "16/16 [==============================] - 0s 18ms/step - loss: 0.1655 - accuracy: 0.9546 - val_loss: 0.9291 - val_accuracy: 0.8200\n",
      "Epoch 14/20\n",
      "16/16 [==============================] - 0s 20ms/step - loss: 0.1494 - accuracy: 0.9564 - val_loss: 1.0120 - val_accuracy: 0.7920\n",
      "Epoch 15/20\n",
      "16/16 [==============================] - 0s 21ms/step - loss: 0.1415 - accuracy: 0.9565 - val_loss: 1.0070 - val_accuracy: 0.8070\n",
      "Epoch 16/20\n",
      "16/16 [==============================] - 0s 16ms/step - loss: 0.1346 - accuracy: 0.9569 - val_loss: 0.9716 - val_accuracy: 0.8200\n",
      "Epoch 17/20\n",
      "16/16 [==============================] - 0s 18ms/step - loss: 0.1224 - accuracy: 0.9583 - val_loss: 1.0304 - val_accuracy: 0.8060\n",
      "Epoch 18/20\n",
      "16/16 [==============================] - 0s 26ms/step - loss: 0.1184 - accuracy: 0.9582 - val_loss: 1.0400 - val_accuracy: 0.8040\n",
      "Epoch 19/20\n",
      "16/16 [==============================] - 0s 19ms/step - loss: 0.1191 - accuracy: 0.9554 - val_loss: 1.0335 - val_accuracy: 0.8090\n",
      "Epoch 20/20\n",
      "16/16 [==============================] - 0s 16ms/step - loss: 0.1110 - accuracy: 0.9590 - val_loss: 1.0835 - val_accuracy: 0.8000\n"
     ]
    }
   ],
   "source": [
    "history = model.fit(partial_x_train,partial_y_train,epochs=20,batch_size=512,validation_data=(x_val, y_val))"
   ]
  },
  {
   "cell_type": "code",
   "execution_count": 24,
   "metadata": {},
   "outputs": [
    {
     "data": {
      "text/plain": [
       "dict_keys(['loss', 'accuracy', 'val_loss', 'val_accuracy'])"
      ]
     },
     "execution_count": 24,
     "metadata": {},
     "output_type": "execute_result"
    }
   ],
   "source": [
    "history_dict1 = history.history\n",
    "history_dict1.keys()"
   ]
  },
  {
   "cell_type": "code",
   "execution_count": 22,
   "metadata": {},
   "outputs": [
    {
     "data": {
      "image/png": "[encoded data removed]",
      "text/plain": [
       "<Figure size 640x480 with 1 Axes>"
      ]
     },
     "metadata": {},
     "output_type": "display_data"
    }
   ],
   "source": [
    "import matplotlib.pyplot as plt\n",
    "loss = history.history['loss']\n",
    "val_loss = history.history['val_loss']\n",
    "epochs = range(1, len(loss) + 1)\n",
    "plt.plot(epochs, loss, 'bo', label='Training loss')\n",
    "plt.plot(epochs, val_loss, 'b', label='Validation loss')\n",
    "plt.title('Training and validation loss')\n",
    "plt.xlabel('Epochs')\n",
    "plt.ylabel('Loss')\n",
    "plt.legend()\n",
    "plt.show()"
   ]
  },
  {
   "cell_type": "code",
   "execution_count": 25,
   "metadata": {},
   "outputs": [
    {
     "data": {
      "image/png": "[encoded data removed]",
      "text/plain": [
       "<Figure size 640x480 with 1 Axes>"
      ]
     },
     "metadata": {},
     "output_type": "display_data"
    }
   ],
   "source": [
    "plt.clf()\n",
    "acc = history_dict1['accuracy']\n",
    "val_acc = history_dict1['val_accuracy']\n",
    "plt.plot(epochs, acc, 'bo', label='Training acc')\n",
    "plt.plot(epochs, val_acc, 'b', label='Validation acc')\n",
    "plt.title('Training and validation accuracy')\n",
    "plt.xlabel('Epochs')\n",
    "plt.ylabel('Loss')\n",
    "plt.legend()\n",
    "plt.show()"
   ]
  },
  {
   "cell_type": "code",
   "execution_count": 26,
   "metadata": {},
   "outputs": [
    {
     "name": "stdout",
     "output_type": "stream",
     "text": [
      "Epoch 1/9\n",
      "16/16 [==============================] - 1s 40ms/step - loss: 2.5742 - accuracy: 0.5254 - val_loss: 1.7004 - val_accuracy: 0.6420\n",
      "Epoch 2/9\n",
      "16/16 [==============================] - 0s 18ms/step - loss: 1.4130 - accuracy: 0.7087 - val_loss: 1.2980 - val_accuracy: 0.7060\n",
      "Epoch 3/9\n",
      "16/16 [==============================] - 0s 17ms/step - loss: 1.0562 - accuracy: 0.7739 - val_loss: 1.1442 - val_accuracy: 0.7500\n",
      "Epoch 4/9\n",
      "16/16 [==============================] - 0s 17ms/step - loss: 0.8324 - accuracy: 0.8172 - val_loss: 1.0499 - val_accuracy: 0.7650\n",
      "Epoch 5/9\n",
      "16/16 [==============================] - 0s 17ms/step - loss: 0.6701 - accuracy: 0.8534 - val_loss: 1.0041 - val_accuracy: 0.7760\n",
      "Epoch 6/9\n",
      "16/16 [==============================] - 0s 16ms/step - loss: 0.5362 - accuracy: 0.8890 - val_loss: 0.9608 - val_accuracy: 0.7950\n",
      "Epoch 7/9\n",
      "16/16 [==============================] - 0s 19ms/step - loss: 0.4382 - accuracy: 0.9095 - val_loss: 0.9195 - val_accuracy: 0.8060\n",
      "Epoch 8/9\n",
      "16/16 [==============================] - 0s 25ms/step - loss: 0.3582 - accuracy: 0.9280 - val_loss: 0.9008 - val_accuracy: 0.8240\n",
      "Epoch 9/9\n",
      "16/16 [==============================] - 0s 18ms/step - loss: 0.2988 - accuracy: 0.9379 - val_loss: 0.9066 - val_accuracy: 0.8170\n",
      "71/71 [==============================] - 0s 2ms/step - loss: 0.9978 - accuracy: 0.7890\n"
     ]
    }
   ],
   "source": [
    "model = models.Sequential()\n",
    "model.add(layers.Dense(64, activation='relu', input_shape=(10000,)))\n",
    "model.add(layers.Dense(64, activation='relu'))\n",
    "model.add(layers.Dense(46, activation='softmax'))\n",
    "model.compile(optimizer='rmsprop',loss='categorical_crossentropy',metrics=['accuracy'])\n",
    "model.fit(partial_x_train,partial_y_train,epochs=9,batch_size=512,validation_data=(x_val, y_val))\n",
    "results = model.evaluate(x_test, one_hot_test_labels)"
   ]
  },
  {
   "cell_type": "code",
   "execution_count": 28,
   "metadata": {},
   "outputs": [
    {
     "data": {
      "text/plain": [
       "[0.9978114366531372, 0.7889581322669983]"
      ]
     },
     "execution_count": 28,
     "metadata": {},
     "output_type": "execute_result"
    }
   ],
   "source": [
    "results"
   ]
  },
  {
   "cell_type": "code",
   "execution_count": 29,
   "metadata": {},
   "outputs": [
    {
     "data": {
      "text/plain": [
       "0.17853962600178094"
      ]
     },
     "execution_count": 29,
     "metadata": {},
     "output_type": "execute_result"
    }
   ],
   "source": [
    "import copy\n",
    "test_labels_copy = copy.copy(test_labels)\n",
    "np.random.shuffle(test_labels_copy)\n",
    "hits_array = np.array(test_labels) == np.array(test_labels_copy)\n",
    "float(np.sum(hits_array)) / len(test_labels)"
   ]
  },
  {
   "cell_type": "code",
   "execution_count": 30,
   "metadata": {},
   "outputs": [
    {
     "name": "stdout",
     "output_type": "stream",
     "text": [
      "71/71 [==============================] - 0s 2ms/step\n"
     ]
    }
   ],
   "source": [
    "predictions = model.predict(x_test)"
   ]
  },
  {
   "cell_type": "code",
   "execution_count": 31,
   "metadata": {},
   "outputs": [
    {
     "data": {
      "text/plain": [
       "(46,)"
      ]
     },
     "execution_count": 31,
     "metadata": {},
     "output_type": "execute_result"
    }
   ],
   "source": [
    "predictions[0].shape"
   ]
  },
  {
   "cell_type": "code",
   "execution_count": 32,
   "metadata": {},
   "outputs": [
    {
     "data": {
      "text/plain": [
       "0.9999999"
      ]
     },
     "execution_count": 32,
     "metadata": {},
     "output_type": "execute_result"
    }
   ],
   "source": [
    "np.sum(predictions[0])"
   ]
  },
  {
   "cell_type": "code",
   "execution_count": 33,
   "metadata": {},
   "outputs": [
    {
     "data": {
      "text/plain": [
       "3"
      ]
     },
     "execution_count": 33,
     "metadata": {},
     "output_type": "execute_result"
    }
   ],
   "source": [
    "np.argmax(predictions[0])"
   ]
  },
  {
   "cell_type": "code",
   "execution_count": null,
   "metadata": {},
   "outputs": [],
   "source": [
    "predictions = model.predict(x_test)"
   ]
  },
  {
   "cell_type": "markdown",
   "metadata": {},
   "source": [
    "### Pytorch training\n",
    "\n",
    "* Insert cells below"
   ]
  }
 ],
 "metadata": {
  "kernelspec": {
   "display_name": "Python 3 (ipykernel)",
   "language": "python",
   "name": "python3"
  },
  "language_info": {
   "codemirror_mode": {
    "name": "ipython",
    "version": 3
   },
   "file_extension": ".py",
   "mimetype": "text/x-python",
   "name": "python",
   "nbconvert_exporter": "python",
   "pygments_lexer": "ipython3",
   "version": "3.9.12"
  },
  "vscode": {
   "interpreter": {
    "hash": "3bbb781ca6673b7d7a2eaec0820775eebfaab6ec1fac7365fb415515f8c23aa5"
   }
  }
 },
 "nbformat": 4,
 "nbformat_minor": 2
}
