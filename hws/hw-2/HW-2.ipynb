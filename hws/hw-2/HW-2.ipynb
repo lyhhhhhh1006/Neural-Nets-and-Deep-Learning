{
 "cells": [
  {
   "cell_type": "markdown",
   "metadata": {},
   "source": [
    "# HW-2: \n",
    "\n",
    "* Classification and regression are some of the most common forms of supervised machine learning \n",
    "* In this homework we will explore regression and multi-class classification, as applied to text data\n",
    "* I would recommend starting the data collection and prep ASAP. Then doing the Neural network training after you have completed the labs.\n",
    "* Once the data is collected, this HW should be quite easy, since most of the code can be recycled from the labs and textbook. \n",
    "* **You can do this assignment in either Keras OR Pytorch. It is your choice.** \n",
    "\n",
    "**Instructions** \n",
    "* **Develope a text based classification and regression data-set:**\n",
    "  * Use the wikipedia API to search for articles to generate the data-set\n",
    "  * Select a set of highly different topics (i.e. labels), for example, \n",
    "    * multi-class case: y=(pizza, oak_trees, joe_biden, ... , etc)=(0,1,2, ... , N-1)\n",
    "    * You don't have to use these, you can use whatever labels you want but use at least 3 labels.  \n",
    "  * Search for wikipedia pages about these topics and harvest the text from the pages. \n",
    "  * Do some basic text cleaning as needed. \n",
    "  * Use the NLTK sentence tokenizer to break the text into sentences. Then form chunks of text that are five sentences long as your \"inputs\".\n",
    "  * The \"label\" for these chunks will be the search label used to find the text. \n",
    "  * Also \"tag\" each chunk of text with an associated \"compound\" sentiment score computed using NLTK sentiment analysis.\n",
    "  * The data set will not be perfect. \n",
    "    * There will be chunks of text that are not related to the topic (i.e. noise). \n",
    "    * However that is just something we have to live with.\n",
    "\n",
    "  * Important: Start small when writing and debugging THEN scale up. The more chunks of text you have the better.\n",
    "  * Do this in a file called \"data_collection.ipynb\", have it save its results to a folder \"data\"\n",
    "    * Save the text and labels to the same format used by the textbook, that way you can recycle your lab code seamlessly. \n",
    "    * Also, include a second file with the associated numeric sentiment scores.\n",
    "* **Training guide-lines**\n",
    "  * Do the training in this \"HW-2.ipynb\" file\n",
    "  * Use a dense feed forward ANN model\n",
    "  * Normalize the data as needed\n",
    "  * Visualize the results at the end where possible\n",
    "  * Partition data into training, validation, and test\n",
    "  * Monitor training and validation throughout training by plotting\n",
    "  * Print training, validation, and test errors at the very end\n",
    "  * Do basic hyper parameter tuning to try to achieve an optimal fit model\n",
    "    * i.e. best training/validation loss without over-fitting\n",
    "    * Explore L1 and L2 regularization (or dropout)\n",
    "    * Explore different optimizers \n",
    "    * Use the loss functions specified in the textbook\n",
    "    * Explore different options for activation functions, network size/depth, etc\n",
    "  * **Document what is going on in the code, as needed, with narrative markdown text between cells.**\n",
    "  * *Submit the version with hyper parameters that provide the optimal fit*\n",
    "    * i.e. you don't need to show the outputs of your hyper-parameter tuning process\n",
    "  * *Optional*: write an outer loop to do an automated hyperparameter search.\n",
    "* **Classification training:**\n",
    "  * Recycle your code from lab-2.2 to train a multi-class classifier on the data set \n",
    "* **Regression training:**\n",
    "  * Use your lab-2.1 code as a starting point \n",
    "  * Train a ANN to predict the sentiment score from the vectorized text\n",
    "    * Use the same input matrix as the classification problem\n",
    "    * This is a bit of a silly and circular exercise, since we are using the outputs of the NLTK model to train an ANN model.\n",
    "    * The only time you would want to do this is if the second model is computationally MUCH MUCH faster than the first.\n",
    "    * That being said, it is an educational exercise so hopefully it is informative.   \n",
    "  \n",
    "**Submission:**\n",
    "* You need to upload TWO documents to Canvas when you are done\n",
    "  * (1) A PDF (or HTML) of the completed form of the \"HW-2.ipynb\" document \n",
    "  * (2) A PDF (or HTML) of the completed form of the \"data_collection.ipynb\" document \n",
    "* The final uploaded version should NOT have any code-errors present \n",
    "* All outputs must be visible in the uploaded version, including code-cell outputs, images, graphs, etc\n",
    "* **Total points:** 41.66\n"
   ]
  },
  {
   "cell_type": "code",
   "execution_count": 1,
   "metadata": {},
   "outputs": [],
   "source": [
    "import pandas as pd\n",
    "data = pd.read_csv('data.csv')\n",
    "data_w_score = pd.read_csv('data_w_score.csv')"
   ]
  },
  {
   "cell_type": "code",
   "execution_count": 10,
   "metadata": {},
   "outputs": [],
   "source": [
    "all_inputs = data['content']\n",
    "all_labels = data['label']"
   ]
  },
  {
   "cell_type": "code",
   "execution_count": 9,
   "metadata": {},
   "outputs": [],
   "source": [
    "import pandas as pd\n",
    "import tensorflow as tf"
   ]
  },
  {
   "cell_type": "code",
   "execution_count": 11,
   "metadata": {},
   "outputs": [
    {
     "name": "stdout",
     "output_type": "stream",
     "text": [
      "(24,) (6,) (24,) (6,)\n"
     ]
    }
   ],
   "source": [
    "from sklearn.model_selection import train_test_split\n",
    "# split into train test sets\n",
    "X_train, X_test, y_train, y_test = train_test_split(all_inputs, all_labels, test_size=0.2)\n",
    "print(X_train.shape, X_test.shape, y_train.shape, y_test.shape)"
   ]
  },
  {
   "cell_type": "code",
   "execution_count": 12,
   "metadata": {},
   "outputs": [
    {
     "name": "stderr",
     "output_type": "stream",
     "text": [
      "2022-10-03 22:17:16.467033: I tensorflow/core/platform/cpu_feature_guard.cc:151] This TensorFlow binary is optimized with oneAPI Deep Neural Network Library (oneDNN) to use the following CPU instructions in performance-critical operations:  SSE4.1 SSE4.2\n",
      "To enable them in other operations, rebuild TensorFlow with the appropriate compiler flags.\n"
     ]
    }
   ],
   "source": [
    "# Train Data Labels\n",
    "y_train = y_train.astype('category')\n",
    "y_train = y_train.cat.codes\n",
    "train_features, train_labels = X_train, tf.one_hot(\n",
    "    y_train, 6)"
   ]
  },
  {
   "cell_type": "code",
   "execution_count": 13,
   "metadata": {},
   "outputs": [],
   "source": [
    "# Test Data Labels\n",
    "y_test = y_test.astype('category')\n",
    "y_test = y_test.cat.codes\n",
    "test_features, test_labels = X_test, tf.one_hot(\n",
    "    y_test, 6)"
   ]
  },
  {
   "cell_type": "code",
   "execution_count": 14,
   "metadata": {},
   "outputs": [],
   "source": [
    "import nltk\n",
    "from nltk.tokenize import word_tokenize\n",
    "\n",
    "tokenized_train_features = [word_tokenize(each_train_text) for each_train_text in train_features]\n",
    "tokenized_test_features = [word_tokenize(each_test_text) for each_test_text in test_features]"
   ]
  },
  {
   "cell_type": "code",
   "execution_count": 16,
   "metadata": {},
   "outputs": [],
   "source": [
    "import gensim\n",
    "from gensim.models import word2vec\n",
    "\n",
    "#config\n",
    "vector_size = 300\n",
    "\n",
    "w2v_model = word2vec.Word2Vec(\n",
    "    tokenized_train_features,\n",
    "    vector_size=vector_size,  # Dimensionality of the word vectors\n",
    "    window=20,\n",
    "    min_count=1,\n",
    "    sg=1  # 1 for skip-gram; otherwise CBOW\n",
    ")"
   ]
  },
  {
   "cell_type": "code",
   "execution_count": 17,
   "metadata": {},
   "outputs": [],
   "source": [
    "vocab_list = list(w2v_model.wv.key_to_index.keys())\n",
    "\n",
    "def remove_OOV_vocab(sample: list, list_vocab):\n",
    "   \n",
    "    in_vocab_sample = []\n",
    "    for each_token in sample:\n",
    "        if each_token in list_vocab:\n",
    "            in_vocab_sample.append(each_token)\n",
    "    return in_vocab_sample\n",
    "  \n",
    "tokenized_test_features = [remove_OOV_vocab(each_test_sample, vocab_list) for each_test_sample in tokenized_test_features]\n"
   ]
  },
  {
   "cell_type": "code",
   "execution_count": 21,
   "metadata": {},
   "outputs": [
    {
     "data": {
      "text/plain": [
       "1240"
      ]
     },
     "execution_count": 21,
     "metadata": {},
     "output_type": "execute_result"
    }
   ],
   "source": [
    "# Get the embedding matrix\n",
    "\n",
    "vocab = w2v_model.wv.key_to_index.keys()\n",
    "embedding_matrix = w2v_model.wv[vocab]"
   ]
  },
  {
   "cell_type": "code",
   "execution_count": 98,
   "metadata": {},
   "outputs": [],
   "source": [
    "from tensorflow.keras.preprocessing.sequence import pad_sequences\n",
    "\n",
    "max_seq_len = 17\n",
    "\n",
    "def w2v_indexed_token_sequences(w2v_model, list_features):\n",
    "    indexed_features = []\n",
    "    for each_seq in list_features:\n",
    "        list_token_indices = []\n",
    "        for each_token in each_seq:\n",
    "            try:\n",
    "                list_token_indices.append(w2v_model.wv.key_to_index[each_token])\n",
    "            except KeyError as e:\n",
    "                continue\n",
    "        indexed_features.append(list_token_indices)\n",
    "    return indexed_features\n",
    "\n",
    "indexed_train_features = w2v_indexed_token_sequences(w2v_model, tokenized_train_features)\n",
    "indexed_test_features = w2v_indexed_token_sequences(w2v_model, tokenized_test_features)\n",
    "\n",
    "padded_train = pad_sequences(indexed_train_features, padding = 'post', maxlen=max_seq_len, truncating='post')\n",
    "padded_test = pad_sequences(indexed_test_features, padding = 'post', maxlen=max_seq_len, truncating='post')\n"
   ]
  },
  {
   "cell_type": "code",
   "execution_count": 105,
   "metadata": {},
   "outputs": [
    {
     "name": "stdout",
     "output_type": "stream",
     "text": [
      "Epoch 1/10\n",
      "1/1 [==============================] - ETA: 0s - loss: 1.8130 - accuracy: 0.0000e+00\n",
      "Epoch 00001: val_loss improved from inf to 1.74667, saving model to models/lstm_with_w2v.hdf5\n",
      "1/1 [==============================] - 0s 128ms/step - loss: 1.8130 - accuracy: 0.0000e+00 - val_loss: 1.7467 - val_accuracy: 0.1250\n",
      "Epoch 2/10\n",
      "1/1 [==============================] - ETA: 0s - loss: 1.7277 - accuracy: 0.3125\n",
      "Epoch 00002: val_loss improved from 1.74667 to 1.72595, saving model to models/lstm_with_w2v.hdf5\n",
      "1/1 [==============================] - 0s 108ms/step - loss: 1.7277 - accuracy: 0.3125 - val_loss: 1.7260 - val_accuracy: 0.1250\n",
      "Epoch 3/10\n",
      "1/1 [==============================] - ETA: 0s - loss: 1.6772 - accuracy: 0.5000\n",
      "Epoch 00003: val_loss did not improve from 1.72595\n",
      "1/1 [==============================] - 0s 82ms/step - loss: 1.6772 - accuracy: 0.5000 - val_loss: 1.7277 - val_accuracy: 0.2500\n",
      "Epoch 4/10\n",
      "1/1 [==============================] - ETA: 0s - loss: 1.6319 - accuracy: 0.6875\n",
      "Epoch 00004: val_loss improved from 1.72595 to 1.71096, saving model to models/lstm_with_w2v.hdf5\n",
      "1/1 [==============================] - 0s 102ms/step - loss: 1.6319 - accuracy: 0.6875 - val_loss: 1.7110 - val_accuracy: 0.3750\n",
      "Epoch 5/10\n",
      "1/1 [==============================] - ETA: 0s - loss: 1.5937 - accuracy: 0.5000\n",
      "Epoch 00005: val_loss improved from 1.71096 to 1.70548, saving model to models/lstm_with_w2v.hdf5\n",
      "1/1 [==============================] - 0s 105ms/step - loss: 1.5937 - accuracy: 0.5000 - val_loss: 1.7055 - val_accuracy: 0.3750\n",
      "Epoch 6/10\n",
      "1/1 [==============================] - ETA: 0s - loss: 1.5654 - accuracy: 0.6250\n",
      "Epoch 00006: val_loss improved from 1.70548 to 1.67716, saving model to models/lstm_with_w2v.hdf5\n",
      "1/1 [==============================] - 0s 108ms/step - loss: 1.5654 - accuracy: 0.6250 - val_loss: 1.6772 - val_accuracy: 0.3750\n",
      "Epoch 7/10\n",
      "1/1 [==============================] - ETA: 0s - loss: 1.5414 - accuracy: 0.5000\n",
      "Epoch 00007: val_loss improved from 1.67716 to 1.67397, saving model to models/lstm_with_w2v.hdf5\n",
      "1/1 [==============================] - 0s 111ms/step - loss: 1.5414 - accuracy: 0.5000 - val_loss: 1.6740 - val_accuracy: 0.3750\n",
      "Epoch 8/10\n",
      "1/1 [==============================] - ETA: 0s - loss: 1.5008 - accuracy: 0.5625\n",
      "Epoch 00008: val_loss improved from 1.67397 to 1.64514, saving model to models/lstm_with_w2v.hdf5\n",
      "1/1 [==============================] - 0s 115ms/step - loss: 1.5008 - accuracy: 0.5625 - val_loss: 1.6451 - val_accuracy: 0.3750\n",
      "Epoch 9/10\n",
      "1/1 [==============================] - ETA: 0s - loss: 1.4776 - accuracy: 0.6250\n",
      "Epoch 00009: val_loss improved from 1.64514 to 1.61227, saving model to models/lstm_with_w2v.hdf5\n",
      "1/1 [==============================] - 0s 108ms/step - loss: 1.4776 - accuracy: 0.6250 - val_loss: 1.6123 - val_accuracy: 0.3750\n",
      "Epoch 10/10\n",
      "1/1 [==============================] - ETA: 0s - loss: 1.4284 - accuracy: 0.6250\n",
      "Epoch 00010: val_loss did not improve from 1.61227\n",
      "1/1 [==============================] - 0s 85ms/step - loss: 1.4284 - accuracy: 0.6250 - val_loss: 1.6989 - val_accuracy: 0.3750\n"
     ]
    }
   ],
   "source": [
    "# Keras imports\n",
    "import tensorflow as tf\n",
    "import tensorflow.keras as keras\n",
    "from keras import layers\n",
    "from tensorflow.keras import Sequential\n",
    "from tensorflow.keras.layers import Dense, Embedding, Dropout, LSTM\n",
    "\n",
    "###classification training\n",
    "\n",
    "vocab_size = len(vocab)\n",
    "def get_model():\n",
    "    model = Sequential()\n",
    "    model.add(\n",
    "        Embedding(input_dim=vocab_size,\n",
    "                  output_dim=vector_size,\n",
    "                  weights=[embedding_matrix],\n",
    "                  input_length=max_seq_len))\n",
    "    model.add(Dropout(0.6))\n",
    "    model.add(LSTM(max_seq_len,return_sequences=True))\n",
    "    model.add(LSTM(6))\n",
    "    model.add(Dense(6,activation='softmax'))\n",
    "    return model\n",
    " \n",
    "# Adding callbacks for best model checkpoint\n",
    "callbacks = [\n",
    "    keras.callbacks.EarlyStopping(monitor=\"val_loss\",\n",
    "                                  patience=2,\n",
    "                                  verbose=1,\n",
    "                                  restore_best_weights=True),\n",
    "    keras.callbacks.ModelCheckpoint(filepath='models/lstm_with_w2v.hdf5',\n",
    "                                    verbose=1,\n",
    "                                    save_best_only=True)\n",
    "]\n",
    "\n",
    "model = get_model()\n",
    "model.compile(optimizer='rmsprop',loss='categorical_crossentropy',metrics=['accuracy'])\n",
    "tf.config.run_functions_eagerly(True)\n",
    "\n",
    "# storing model training details to analyze later\n",
    "history = model.fit(padded_train, \n",
    "                    train_labels,\n",
    "                    validation_split=0.33,\n",
    "                    callbacks=callbacks,\n",
    "                    epochs=10)"
   ]
  },
  {
   "cell_type": "code",
   "execution_count": 106,
   "metadata": {},
   "outputs": [
    {
     "data": {
      "image/png": "[encoded data removed]",
      "text/plain": [
       "<Figure size 432x288 with 1 Axes>"
      ]
     },
     "metadata": {
      "needs_background": "light"
     },
     "output_type": "display_data"
    }
   ],
   "source": [
    "import matplotlib.pyplot as plt\n",
    "loss = history.history['loss']\n",
    "val_loss = history.history['val_loss']\n",
    "epochs = range(1, len(loss) + 1)\n",
    "plt.plot(epochs, loss, 'bo', label='Training loss')\n",
    "plt.plot(epochs, val_loss, 'b', label='Validation loss')\n",
    "plt.title('Training and validation loss')\n",
    "plt.xlabel('Epochs')\n",
    "plt.ylabel('Loss')\n",
    "plt.legend()\n",
    "plt.show()"
   ]
  },
  {
   "cell_type": "code",
   "execution_count": 107,
   "metadata": {},
   "outputs": [
    {
     "data": {
      "image/png": "[encoded data removed]",
      "text/plain": [
       "<Figure size 432x288 with 1 Axes>"
      ]
     },
     "metadata": {
      "needs_background": "light"
     },
     "output_type": "display_data"
    }
   ],
   "source": [
    "plt.clf()\n",
    "acc = history.history['accuracy']\n",
    "val_acc = history.history['val_accuracy']\n",
    "plt.plot(epochs, acc, 'bo', label='Training acc')\n",
    "plt.plot(epochs, val_acc, 'b', label='Validation acc')\n",
    "plt.title('Training and validation accuracy')\n",
    "plt.xlabel('Epochs')\n",
    "plt.ylabel('Accuracy')\n",
    "plt.legend()\n",
    "plt.show()"
   ]
  },
  {
   "cell_type": "code",
   "execution_count": 151,
   "metadata": {},
   "outputs": [],
   "source": [
    "import numpy as np\n",
    "X_train = np.array(X_train)\n",
    "X_test = np.array(X_test)\n",
    "y_train = np.array(y_train)\n",
    "y_test = np.array(y_test)"
   ]
  },
  {
   "cell_type": "code",
   "execution_count": 160,
   "metadata": {},
   "outputs": [],
   "source": [
    "###regression training\n",
    "from re import X\n",
    "from keras import models\n",
    "from keras import layers\n",
    "from keras import regularizers\n",
    "\n",
    "def build_model():\n",
    "    model = models.Sequential()\n",
    "    # add l1 and l2 regulations\n",
    "    model.add(layers.Dense(32, kernel_regularizer = regularizers.l1_l2(l1 = 1e-5, l2 = 1e-4),\n",
    "                            #bias_regularizer=regularizers.l2(1e-4),\n",
    "                            #activity_regularizer=regularizers.l2(1e-5),\n",
    "                            activation='relu',\n",
    "                            input_shape=(padded_train.shape[1],)))\n",
    "    model.add(layers.Dense(32, activation='relu'))\n",
    "    model.add(layers.Dense(1))\n",
    "    #try different optimizers\n",
    "    model.compile(optimizer='adam', loss='mse', metrics=['mae'])\n",
    "    return model"
   ]
  },
  {
   "cell_type": "code",
   "execution_count": 161,
   "metadata": {},
   "outputs": [
    {
     "name": "stdout",
     "output_type": "stream",
     "text": [
      "processing fold # 0\n",
      "processing fold # 1\n",
      "processing fold # 2\n",
      "processing fold # 3\n"
     ]
    }
   ],
   "source": [
    "import numpy as np\n",
    "k=4\n",
    "num_val_samples = len(X_train) // k\n",
    "num_epochs = 100\n",
    "all_scores = []\n",
    "for i in range(k):\n",
    "    print('processing fold #', i)\n",
    "    val_data = X_train[i * num_val_samples: (i + 1) * num_val_samples]\n",
    "    val_targets = y_train[i * num_val_samples: (i + 1) * num_val_samples]\n",
    "    partial_train_data = np.concatenate([X_train[:i * num_val_samples], X_train[(i + 1) * num_val_samples:]],axis=0)\n",
    "    partial_train_targets = np.concatenate([y_train[:i * num_val_samples],y_train[(i + 1) * num_val_samples:]],axis=0)\n",
    "    model = build_model()\n",
    "    model.fit(padded_train, train_labels,\n",
    "            epochs=num_epochs, batch_size=16, verbose=0)\n",
    "    val_mse, val_mae = model.evaluate(padded_test, test_labels, verbose=0)\n",
    "    all_scores.append(val_mae)"
   ]
  },
  {
   "cell_type": "code",
   "execution_count": 162,
   "metadata": {},
   "outputs": [
    {
     "name": "stdout",
     "output_type": "stream",
     "text": [
      "processing fold # 0\n",
      "processing fold # 1\n",
      "processing fold # 2\n",
      "processing fold # 3\n"
     ]
    }
   ],
   "source": [
    "num_epochs = 200\n",
    "all_mae_histories = []\n",
    "for i in range(k):\n",
    "    print('processing fold #', i)\n",
    "    val_data = X_train[i * num_val_samples: (i + 1) * num_val_samples]\n",
    "    val_targets = y_train[i * num_val_samples: (i + 1) * num_val_samples]\n",
    "    partial_train_data = np.concatenate([X_train[:i * num_val_samples],X_train[(i + 1) * num_val_samples:]],axis=0)\n",
    "    partial_train_targets = np.concatenate([y_train[:i * num_val_samples],y_train[(i + 1) * num_val_samples:]],axis=0)\n",
    "    model = build_model()\n",
    "    history = model.fit(padded_train, train_labels,\n",
    "                        validation_data=(padded_test, test_labels),\n",
    "                        epochs=num_epochs, batch_size=1, verbose=0)\n",
    "    mae_history = history.history['val_mae']\n",
    "    all_mae_histories.append(mae_history)"
   ]
  },
  {
   "cell_type": "code",
   "execution_count": 163,
   "metadata": {},
   "outputs": [],
   "source": [
    "#build the history of successive mean k-fold validation scores\n",
    "average_mae_history = [np.mean([x[i] for x in all_mae_histories]) for i in range(num_epochs)]"
   ]
  },
  {
   "cell_type": "code",
   "execution_count": 164,
   "metadata": {},
   "outputs": [
    {
     "data": {
      "image/png": "[encoded data removed]",
      "text/plain": [
       "<Figure size 432x288 with 1 Axes>"
      ]
     },
     "metadata": {
      "needs_background": "light"
     },
     "output_type": "display_data"
    }
   ],
   "source": [
    "#plotting validation scores\n",
    "import matplotlib.pyplot as plt\n",
    "plt.plot(range(1, len(average_mae_history) + 1), average_mae_history)\n",
    "plt.xlabel('Epochs')\n",
    "plt.ylabel('Validation MAE')\n",
    "plt.show()"
   ]
  },
  {
   "cell_type": "code",
   "execution_count": 165,
   "metadata": {},
   "outputs": [
    {
     "data": {
      "image/png": "[encoded data removed]",
      "text/plain": [
       "<Figure size 432x288 with 1 Axes>"
      ]
     },
     "metadata": {
      "needs_background": "light"
     },
     "output_type": "display_data"
    }
   ],
   "source": [
    "#plotting validation scores, excluding the first 10 data points\n",
    "def smooth_curve(points, factor=0.9):\n",
    "    smoothed_points = []\n",
    "    for point in points:\n",
    "        if smoothed_points:\n",
    "            previous = smoothed_points[-1]\n",
    "            smoothed_points.append(previous * factor + point * (1 - factor))\n",
    "        else:\n",
    "            smoothed_points.append(point)\n",
    "    return smoothed_points\n",
    "smooth_mae_history = smooth_curve(average_mae_history[10:])\n",
    "plt.plot(range(1, len(smooth_mae_history) + 1), smooth_mae_history)\n",
    "plt.xlabel('Epochs')\n",
    "plt.ylabel('Validation MAE')\n",
    "plt.show()"
   ]
  },
  {
   "cell_type": "code",
   "execution_count": 167,
   "metadata": {},
   "outputs": [
    {
     "name": "stderr",
     "output_type": "stream",
     "text": [
      "/Users/yihuiliu_/opt/anaconda3/envs/anly590/lib/python3.9/site-packages/tensorflow/python/data/ops/dataset_ops.py:4526: UserWarning: Even though the `tf.config.experimental_run_functions_eagerly` option is set, this option does not apply to tf.data functions. To force eager execution of tf.data functions, please use `tf.data.experimental.enable_debug_mode()`.\n",
      "  warnings.warn(\n"
     ]
    },
    {
     "name": "stdout",
     "output_type": "stream",
     "text": [
      "1/1 [==============================] - 0s 17ms/step - loss: 531.8258 - mae: 18.5624\n"
     ]
    },
    {
     "data": {
      "text/plain": [
       "18.56237030029297"
      ]
     },
     "execution_count": 167,
     "metadata": {},
     "output_type": "execute_result"
    }
   ],
   "source": [
    "#training the final model\n",
    "model = build_model()\n",
    "model.fit(padded_train, train_labels, epochs = 80, batch_size = 16, verbose = 0)\n",
    "test_mae_score, test_mae_score = model.evaluate (padded_test, test_labels) \n",
    "\n",
    "test_mae_score"
   ]
  }
 ],
 "metadata": {
  "kernelspec": {
   "display_name": "Python 3.9.12 ('anly590')",
   "language": "python",
   "name": "python3"
  },
  "language_info": {
   "codemirror_mode": {
    "name": "ipython",
    "version": 3
   },
   "file_extension": ".py",
   "mimetype": "text/x-python",
   "name": "python",
   "nbconvert_exporter": "python",
   "pygments_lexer": "ipython3",
   "version": "3.9.12"
  },
  "vscode": {
   "interpreter": {
    "hash": "515f5c6cd1348fb965e5c6b4ded4ef871d1b3a97751352e2d745eb18d53490ce"
   }
  }
 },
 "nbformat": 4,
 "nbformat_minor": 2
}
